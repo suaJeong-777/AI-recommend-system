{
  "nbformat": 4,
  "nbformat_minor": 0,
  "metadata": {
    "colab": {
      "name": "eco friendly product recommendation0816.ipynb",
      "provenance": [],
      "mount_file_id": "1mLCh_w4JRPLq7Cw-aBZjt6NWmU3-vjUw",
      "authorship_tag": "ABX9TyO4L1KOHViAzkGD6M6d2TE2",
      "include_colab_link": true
    },
    "kernelspec": {
      "name": "python3",
      "display_name": "Python 3"
    },
    "language_info": {
      "name": "python"
    }
  },
  "cells": [
    {
      "cell_type": "markdown",
      "metadata": {
        "id": "view-in-github",
        "colab_type": "text"
      },
      "source": [
        "<a href=\"https://colab.research.google.com/github/suaJeong-777/AI-recommend-system/blob/main/eco_friendly_product_recommendation0816.ipynb\" target=\"_parent\"><img src=\"https://colab.research.google.com/assets/colab-badge.svg\" alt=\"Open In Colab\"/></a>"
      ]
    },
    {
      "cell_type": "code",
      "source": [
        "from google.colab import drive\n",
        "drive.mount('/content/drive')"
      ],
      "metadata": {
        "colab": {
          "base_uri": "https://localhost:8080/"
        },
        "id": "Xh7leGDN9ZHa",
        "outputId": "e356031f-a8f4-47ef-9ecf-50d0f78e6a14"
      },
      "execution_count": 2,
      "outputs": [
        {
          "output_type": "stream",
          "name": "stdout",
          "text": [
            "Drive already mounted at /content/drive; to attempt to forcibly remount, call drive.mount(\"/content/drive\", force_remount=True).\n"
          ]
        }
      ]
    },
    {
      "cell_type": "code",
      "execution_count": 3,
      "metadata": {
        "id": "GyIivCabrbb7",
        "colab": {
          "base_uri": "https://localhost:8080/"
        },
        "outputId": "146c3efb-2d33-4723-ea61-1fc2b8a8a87e"
      },
      "outputs": [
        {
          "output_type": "stream",
          "name": "stdout",
          "text": [
            "0    [{\"id\": 6, \"name\": \"clothes\"}, {\"id\": 63, \"name\": \"bag\"}, {\"id\": 10, \"name\": \"material\"}, {\"id\": 103, \"name\": \"plastic\"}]\n",
            "Name: genres, dtype: object\n",
            "0    [{\"id\": 63, \"name\": \"bag\"}, {\"id\": 103, \"name\": \"plastic\"}]\n",
            "Name: keywords, dtype: object\n"
          ]
        }
      ],
      "source": [
        "import pandas as pd\n",
        "import warnings; warnings.filterwarnings('ignore')\n",
        "pd.set_option('display.max_rows', None)\n",
        "pd.set_option('display.max_colwidth', None)\n",
        "\n",
        "movies = pd.read_csv(r'/content/drive/MyDrive/소개딩_2022/tmdb_5000_environment.csv',encoding='cp949')\n",
        "# print(movies.shape)\n",
        "# print(movies.head(10))\n",
        "\n",
        "movies_df = movies[['id','title','genres','voteAverage', 'voteCount', 'popularity', 'keywords', 'overview']]\n",
        "print(movies_df['genres'].head(1))\n",
        "print(movies_df['keywords'].head(1))"
      ]
    },
    {
      "cell_type": "code",
      "source": [
        "from ast import literal_eval\n",
        "movies_df['genres'] = movies_df['genres'].apply(literal_eval)\n",
        "movies_df['keywords'] = movies_df['keywords'].apply(literal_eval)\n",
        "movies_df['genres'] = movies_df['genres'].apply(lambda x : [y['name'] for y in x])\n",
        "movies_df['keywords'] = movies_df['keywords'].apply(lambda x : [y['name'] for y in x])\n",
        "print(movies_df['genres'].head(1))\n",
        "print(movies_df['keywords'].head(1))"
      ],
      "metadata": {
        "colab": {
          "base_uri": "https://localhost:8080/"
        },
        "id": "HiwB14yDGAlc",
        "outputId": "b7d564d8-2d33-4df1-bf61-ec8a7acf5743"
      },
      "execution_count": 4,
      "outputs": [
        {
          "output_type": "stream",
          "name": "stdout",
          "text": [
            "0    [clothes, bag, material, plastic]\n",
            "Name: genres, dtype: object\n",
            "0    [bag, plastic]\n",
            "Name: keywords, dtype: object\n"
          ]
        }
      ]
    },
    {
      "cell_type": "code",
      "source": [
        "from sklearn.feature_extraction.text import CountVectorizer\n",
        "\n",
        "#CountVectorizer를 적용하기 위해 공백문자로 word단위가 구분되는 문자열로 변환.\n",
        "movies_df['generes_literal'] = movies_df['genres'].apply(lambda x :  (' ').join(x))\n",
        "print(movies_df['generes_literal'].head(10))\n",
        "count_vect = CountVectorizer(min_df=0, ngram_range=(1,2))\n",
        "genre_mat = count_vect.fit_transform(movies_df['generes_literal'])\n",
        "print(genre_mat)\n",
        "print(genre_mat.shape)"
      ],
      "metadata": {
        "colab": {
          "base_uri": "https://localhost:8080/"
        },
        "id": "Dr-1SoweGCCe",
        "outputId": "1e5ac9ee-07fc-47c6-cdfb-b5b8bc2ea7f1"
      },
      "execution_count": 5,
      "outputs": [
        {
          "output_type": "stream",
          "name": "stdout",
          "text": [
            "0         clothes bag material plastic\n",
            "1         clothes pouch matrial fabric\n",
            "2         clothes bag material leather\n",
            "3          clothes bag material others\n",
            "4          clothes top material fabric\n",
            "5    clothes underwear material others\n",
            "6      clothes wallet material leather\n",
            "7     beauty toothbrush material woods\n",
            "8       kitchen others material others\n",
            "9    kitchen dishcloth material fabric\n",
            "Name: generes_literal, dtype: object\n",
            "  (0, 33)\t1\n",
            "  (0, 25)\t1\n",
            "  (0, 107)\t1\n",
            "  (0, 126)\t1\n",
            "  (0, 34)\t1\n",
            "  (0, 26)\t1\n",
            "  (0, 113)\t1\n",
            "  (1, 33)\t1\n",
            "  (1, 127)\t1\n",
            "  (1, 115)\t1\n",
            "  (1, 67)\t1\n",
            "  (1, 35)\t1\n",
            "  (1, 128)\t1\n",
            "  (1, 116)\t1\n",
            "  (2, 33)\t1\n",
            "  (2, 25)\t1\n",
            "  (2, 107)\t1\n",
            "  (2, 34)\t1\n",
            "  (2, 26)\t1\n",
            "  (2, 104)\t1\n",
            "  (2, 111)\t1\n",
            "  (3, 33)\t1\n",
            "  (3, 25)\t1\n",
            "  (3, 107)\t1\n",
            "  (3, 34)\t1\n",
            "  :\t:\n",
            "  (95, 138)\t1\n",
            "  (95, 130)\t1\n",
            "  (95, 83)\t1\n",
            "  (95, 9)\t1\n",
            "  (95, 139)\t1\n",
            "  (95, 131)\t1\n",
            "  (95, 117)\t1\n",
            "  (95, 86)\t1\n",
            "  (95, 118)\t1\n",
            "  (96, 10)\t1\n",
            "  (96, 0)\t1\n",
            "  (96, 130)\t1\n",
            "  (96, 83)\t1\n",
            "  (96, 131)\t1\n",
            "  (96, 58)\t1\n",
            "  (96, 92)\t1\n",
            "  (96, 63)\t1\n",
            "  (96, 93)\t1\n",
            "  (96, 1)\t1\n",
            "  (96, 15)\t1\n",
            "  (97, 10)\t1\n",
            "  (97, 0)\t1\n",
            "  (97, 76)\t1\n",
            "  (97, 17)\t1\n",
            "  (97, 77)\t1\n",
            "(98, 155)\n"
          ]
        }
      ]
    },
    {
      "cell_type": "code",
      "source": [
        "from sklearn.metrics.pairwise import cosine_similarity\n",
        "\n",
        "genre_sim = cosine_similarity(genre_mat, genre_mat)\n",
        "print(genre_sim.shape)\n",
        "print(genre_sim[:1])"
      ],
      "metadata": {
        "colab": {
          "base_uri": "https://localhost:8080/"
        },
        "id": "bQ9FJXFbGGJ6",
        "outputId": "15327750-e52f-48c8-9d0a-c62d19d85326"
      },
      "execution_count": 6,
      "outputs": [
        {
          "output_type": "stream",
          "name": "stdout",
          "text": [
            "(98, 98)\n",
            "[[1.         0.14285714 0.71428571 0.71428571 0.28571429 0.28571429\n",
            "  0.28571429 0.14285714 0.12598816 0.14285714 0.14285714 0.14285714\n",
            "  0.14285714 0.14285714 0.12598816 0.28571429 0.14285714 0.14285714\n",
            "  0.14285714 0.14285714 0.14285714 0.14285714 0.14285714 0.14285714\n",
            "  0.12598816 0.71428571 0.71428571 0.71428571 0.14285714 0.14285714\n",
            "  0.12598816 0.14285714 0.14285714 0.14285714 0.12598816 0.14285714\n",
            "  0.14285714 0.14285714 0.14285714 0.14285714 0.14285714 0.\n",
            "  0.         0.         0.         0.         0.         0.\n",
            "  0.         0.         0.         0.         0.         0.\n",
            "  0.         0.         0.         0.         0.         0.\n",
            "  0.         0.         0.         0.         0.         0.\n",
            "  0.         0.         0.         0.         0.         0.\n",
            "  0.         0.         0.         0.         0.         0.\n",
            "  0.         0.         0.         0.         0.         0.\n",
            "  0.         0.         0.         0.         0.         0.\n",
            "  0.         0.         0.         0.         0.         0.\n",
            "  0.         0.        ]]\n"
          ]
        }
      ]
    },
    {
      "cell_type": "code",
      "source": [
        "genre_sim_sorted_ind = genre_sim.argsort()[:,::-1]\n",
        "print(genre_sim_sorted_ind[:1])"
      ],
      "metadata": {
        "colab": {
          "base_uri": "https://localhost:8080/"
        },
        "id": "1dYtSarmGSAf",
        "outputId": "5212bb59-f522-4114-b3ba-56f4b4961db1"
      },
      "execution_count": 7,
      "outputs": [
        {
          "output_type": "stream",
          "name": "stdout",
          "text": [
            "[[ 0  3 26 27 25  2  4  6 15  5 31 40 28 29 33 32 35 22 37 38 39 36 23 21\n",
            "  13  1  7  9 10 12 11 20 16 17 18 19  8 24 14 30 34 96 41 42 43 44 45 46\n",
            "  47 97 49 50 75 76 77 78 79 80 81 82 83 84 85 86 87 88 89 90 91 92 93 94\n",
            "  95 74 73 72 60 51 52 53 54 55 56 57 58 59 61 71 62 63 64 65 66 67 68 69\n",
            "  70 48]]\n"
          ]
        }
      ]
    },
    {
      "cell_type": "code",
      "source": [
        "def find_sim_movie(df, sorted_ind, title_name, top_n=10):\n",
        "    #인자로 입력된 movies_df DataFrame에서 'title'칼럼이 입력된 title_name값인 DataFrame 추출\n",
        "    title_movie = df[df['title'] == title_name]\n",
        "\n",
        "    #title_named을 가진 DataFrame의 index객체를 ndarray로 반환하고\n",
        "    #sorted_ind 인자로 입력된 genre_sim_sorted_ind 객체에서 유사도 순으로 top_n개의 index추출\n",
        "    title_index = title_movie.index.values\n",
        "    similar_indexes = sorted_ind[title_index, :(top_n)]\n",
        "\n",
        "    #추출된 top_n index출력, top_n index는 2차원 데이터임\n",
        "    #dataframe에서 index로 사용하기 위해서 1차원 array로 변경\n",
        "    print(similar_indexes)\n",
        "    similar_indexes = similar_indexes.reshape(-1)\n",
        "\n",
        "    return df.iloc[similar_indexes]\n",
        "\n",
        "similar_movies = find_sim_movie(movies_df, genre_sim_sorted_ind, '대나무 슬리퍼', 10)   # 찾고자 하는 데이터와 유사한 것\n",
        "print(similar_movies.info())\n",
        "print(similar_movies)\n",
        "print(similar_movies[['title', 'voteCount', 'voteAverage']])"
      ],
      "metadata": {
        "colab": {
          "base_uri": "https://localhost:8080/"
        },
        "id": "CT-pBHQ7GVXK",
        "outputId": "cedd8c6b-3ff6-46d7-b3dc-7871ade284a0"
      },
      "execution_count": 29,
      "outputs": [
        {
          "output_type": "stream",
          "name": "stdout",
          "text": [
            "[[15 36 13 40 32 33  7 39 38 37]]\n",
            "<class 'pandas.core.frame.DataFrame'>\n",
            "Int64Index: 10 entries, 15 to 37\n",
            "Data columns (total 10 columns):\n",
            " #   Column           Non-Null Count  Dtype  \n",
            "---  ------           --------------  -----  \n",
            " 0   id               10 non-null     int64  \n",
            " 1   title            10 non-null     object \n",
            " 2   genres           10 non-null     object \n",
            " 3   voteAverage      10 non-null     float64\n",
            " 4   voteCount        10 non-null     int64  \n",
            " 5   popularity       10 non-null     float64\n",
            " 6   keywords         10 non-null     object \n",
            " 7   overview         10 non-null     object \n",
            " 8   generes_literal  10 non-null     object \n",
            " 9   weighted_vote    10 non-null     float64\n",
            "dtypes: float64(3), int64(2), object(5)\n",
            "memory usage: 880.0+ bytes\n",
            "None\n",
            "        id          title                                   genres  \\\n",
            "15    2454        대나무 슬리퍼        [clothes, shoes, material, woods]   \n",
            "36   91314  wasara 원형접시 S       [kitchen, dishes, material, woods]   \n",
            "13   57201          소나무볼펜  [writingsupplies, pen, material, woods]   \n",
            "40   49013    wasara  나이프      [kitchen, cutlery, material, woods]   \n",
            "32   12155         대나무 빨대          [items, straw, material, woods]   \n",
            "33   36668         대나무 칫솔    [beauty, toothbrush, material, woods]   \n",
            "7    99861          대나무칫솔    [beauty, toothbrush, material, woods]   \n",
            "39   20526      wasara 스푼      [kitchen, cutlery, material, woods]   \n",
            "38  102382      wasara 볼        [kitchen, dishes, material, woods]   \n",
            "37   68728  wasara 사각접시 L       [kitchen, dishes, material, woods]   \n",
            "\n",
            "    voteAverage  voteCount  popularity             keywords  \\\n",
            "15          6.3       1630   53.978602       [shoes, woods]   \n",
            "36          5.8       3095  116.840296      [dishes, woods]   \n",
            "13          5.9       2311   49.046956         [pen, woods]   \n",
            "40          5.8       2033   49.986590     [cutlery, woods]   \n",
            "32          6.4       4645   78.530105       [straw, woods]   \n",
            "33          6.3       3525    3.857526  [toothbrush, woods]   \n",
            "7           7.3       6767  134.279229  [toothbrush, woods]   \n",
            "39          6.3       2841   73.795050     [cutlery, woods]   \n",
            "38          6.5       4179   89.270217      [dishes, woods]   \n",
            "37          5.7       3530   46.985445      [dishes, woods]   \n",
            "\n",
            "                                       overview  \\\n",
            "15                      slippers made of bamboo   \n",
            "36   disposable dishes made of bamboo, reed etc   \n",
            "13                            pen made of woods   \n",
            "40            disposable cutlery made of bamboo   \n",
            "32                      straw is made of bamboo   \n",
            "33  toothbrush made of woods especially bamboo    \n",
            "7   toothbrush made of woods especially bamboo    \n",
            "39            disposable cutlery made of bamboo   \n",
            "38   disposable dishes made of bamboo, reed etc   \n",
            "37   disposable dishes made of bamboo, reed etc   \n",
            "\n",
            "                       generes_literal  weighted_vote  \n",
            "15        clothes shoes material woods       6.493639  \n",
            "36       kitchen dishes material woods       6.253585  \n",
            "13  writingsupplies pen material woods       6.339308  \n",
            "40      kitchen cutlery material woods       6.326946  \n",
            "32          items straw material woods       6.480638  \n",
            "33    beauty toothbrush material woods       6.448102  \n",
            "7     beauty toothbrush material woods       7.004451  \n",
            "39      kitchen cutlery material woods       6.461839  \n",
            "38       kitchen dishes material woods       6.532919  \n",
            "37       kitchen dishes material woods       6.185335  \n",
            "            title  voteCount  voteAverage\n",
            "15        대나무 슬리퍼       1630          6.3\n",
            "36  wasara 원형접시 S       3095          5.8\n",
            "13          소나무볼펜       2311          5.9\n",
            "40    wasara  나이프       2033          5.8\n",
            "32         대나무 빨대       4645          6.4\n",
            "33         대나무 칫솔       3525          6.3\n",
            "7           대나무칫솔       6767          7.3\n",
            "39      wasara 스푼       2841          6.3\n",
            "38      wasara 볼        4179          6.5\n",
            "37  wasara 사각접시 L       3530          5.7\n"
          ]
        }
      ]
    },
    {
      "cell_type": "code",
      "source": [
        "print(movies_df[['title', 'voteCount', 'voteAverage']].sort_values('voteAverage', ascending=False)[:10])"
      ],
      "metadata": {
        "colab": {
          "base_uri": "https://localhost:8080/"
        },
        "id": "j33p4Y7QGbLq",
        "outputId": "5aa24101-068a-4916-810f-6db1b8a82713"
      },
      "execution_count": 30,
      "outputs": [
        {
          "output_type": "stream",
          "name": "stdout",
          "text": [
            "                      title  voteCount  voteAverage\n",
            "64          The Dark Knight      12002          8.2\n",
            "95                Inception      13752          8.1\n",
            "94             Interstellar      10867          8.1\n",
            "76               Inside Out       6560          8.0\n",
            "93  Guardians of the Galaxy       9742          7.9\n",
            "57                   WALL쨌E       6296          7.8\n",
            "87               Big Hero 6       6135          7.8\n",
            "65                       Up       6870          7.7\n",
            "42              Toy Story 3       4597          7.6\n",
            "22                텀블러 드링크 백       4524          7.6\n"
          ]
        }
      ]
    },
    {
      "cell_type": "code",
      "source": [
        "movies.info()"
      ],
      "metadata": {
        "colab": {
          "base_uri": "https://localhost:8080/"
        },
        "id": "FYpTnuBLNlZ-",
        "outputId": "ad13575f-cc16-4006-bf00-6437db490420"
      },
      "execution_count": 31,
      "outputs": [
        {
          "output_type": "stream",
          "name": "stdout",
          "text": [
            "<class 'pandas.core.frame.DataFrame'>\n",
            "RangeIndex: 98 entries, 0 to 97\n",
            "Data columns (total 9 columns):\n",
            " #   Column       Non-Null Count  Dtype  \n",
            "---  ------       --------------  -----  \n",
            " 0   genres       98 non-null     object \n",
            " 1   id           98 non-null     int64  \n",
            " 2   keywords     98 non-null     object \n",
            " 3   overview     98 non-null     object \n",
            " 4   popularity   98 non-null     float64\n",
            " 5   title        98 non-null     object \n",
            " 6   voteAverage  98 non-null     float64\n",
            " 7   voteCount    98 non-null     int64  \n",
            " 8   imageSource  41 non-null     object \n",
            "dtypes: float64(2), int64(2), object(5)\n",
            "memory usage: 7.0+ KB\n"
          ]
        }
      ]
    },
    {
      "cell_type": "code",
      "source": [
        "#movies=movies.astype({'voteCount':'float64'})"
      ],
      "metadata": {
        "id": "0Dtu8tY1N0JM"
      },
      "execution_count": 32,
      "outputs": []
    },
    {
      "cell_type": "code",
      "source": [
        "percentile = 0.6\n",
        "m = movies['voteCount'].quantile(percentile)\n",
        "C = movies['voteAverage'].mean()\n",
        "\n",
        "def weighted_vote_average(record):\n",
        "    v = record['voteCount']\n",
        "    R = record['voteAverage']\n",
        "\n",
        "    return ( (v/(v+m)) * R) + ( (m/(m+v))*C )\n",
        "\n",
        "movies_df['weighted_vote'] = movies.apply(weighted_vote_average, axis=1)\n",
        "movies_df[['title', 'weighted_vote', 'voteAverage', 'voteCount']].sort_values('weighted_vote', ascending=False)[:10]\n",
        "print(movies_df['title'].head(100))\n",
        "\n",
        "def find_sim_movie_weight(df, sorted_ind, title_name, top_n=10):\n",
        "    #인자로 입력된 movies_df DataFrame에서 'title'칼럼이 입력된 title_name값인 DataFrame 추출\n",
        "    title_movie = df[df['title'] == title_name]\n",
        "    print(title_movie)\n",
        "    title_index = title_movie.index.values\n",
        "\n",
        "    #top_n의 2배에 해당하는 장르 유사성이 높은 인덱스 추출\n",
        "    similar_indexes = sorted_ind[title_index, :(top_n*2)]\n",
        "    similar_indexes = similar_indexes.reshape(-1)\n",
        "\n",
        "    #기준 영화 인덱스는 제외\n",
        "    similar_indexes = similar_indexes[similar_indexes != title_index]\n",
        "\n",
        "\n",
        "    #top_n의 2배에 해당하는 후보군에서 weight_vote가 노은 순으로 top_n만큼 추출\n",
        "    return df.iloc[similar_indexes].sort_values('weighted_vote', ascending=False)[:top_n]\n",
        "\n",
        "similar_movies = find_sim_movie_weight(movies_df, genre_sim_sorted_ind, 'Inception', 10)\n",
        "print(similar_movies[['title', 'voteAverage', 'weighted_vote']])"
      ],
      "metadata": {
        "colab": {
          "base_uri": "https://localhost:8080/"
        },
        "id": "2nFjlmplGeIq",
        "outputId": "7f8977b1-c847-42dd-8f10-d89c52289fc0"
      },
      "execution_count": 33,
      "outputs": [
        {
          "output_type": "stream",
          "name": "stdout",
          "text": [
            "0                                                             플리츠 백팩\n",
            "1                                                              심플파우치\n",
            "2                                                            프린트 클러치\n",
            "3                                                                 백팩\n",
            "4                                                                오브티\n",
            "5                                                                수영복\n",
            "6                                                               명함지갑\n",
            "7                                                              대나무칫솔\n",
            "8                                                              설거지비누\n",
            "9                                                               삼베행주\n",
            "10                                                             소창손수건\n",
            "11                                                   제로웨이스트 셀룰로오스 행주\n",
            "12                                                              드링크백\n",
            "13                                                             소나무볼펜\n",
            "14                                                              티코스터\n",
            "15                                                           대나무 슬리퍼\n",
            "16                                                              바디타올\n",
            "17                                                             삼베마스크\n",
            "18                                                             삼베 덮개\n",
            "19                                                          삼베 테이블매트\n",
            "20                                                            생분해 빨대\n",
            "21                                                              풀 빨대\n",
            "22                                                         텀블러 드링크 백\n",
            "23                                                                티백\n",
            "24                                                         디쉬 앤 베지 솝\n",
            "25                                                     에코백 심플네이처 숄더 \n",
            "26                                                          투웨이 크로스백\n",
            "27                                                           멀티 파우치 \n",
            "28                                                       호텔 커플 나이트가운\n",
            "29                                                           드라이와플가운\n",
            "30                                                        드라이타올 샤워가운\n",
            "31                                                        통통 기둥 밀랍 초\n",
            "32                                                            대나무 빨대\n",
            "33                                                            대나무 칫솔\n",
            "34                                                             설거지비누\n",
            "35                                                      비즈왁스 공기정화 캔들\n",
            "36                                                     wasara 원형접시 S\n",
            "37                                                     wasara 사각접시 L\n",
            "38                                                         wasara 볼 \n",
            "39                                                         wasara 스푼\n",
            "40                                                       wasara  나이프\n",
            "41                                                     Green Lantern\n",
            "42                                                       Toy Story 3\n",
            "43                                              Terminator Salvation\n",
            "44                                                         Furious 7\n",
            "45                                                       World War Z\n",
            "46                                        X-Men: Days of Future Past\n",
            "47                                           Star Trek Into Darkness\n",
            "48                                             Jack the Giant Slayer\n",
            "49                                                  The Great Gatsby\n",
            "50                               Prince of Persia: The Sands of Time\n",
            "51                                                       Pacific Rim\n",
            "52                                    Transformers: Dark of the Moon\n",
            "53                Indiana Jones and the Kingdom of the Crystal Skull\n",
            "54                                                 The Good Dinosaur\n",
            "55                                                             Brave\n",
            "56                                                  Star Trek Beyond\n",
            "57                                                            WALL쨌E\n",
            "58                                                       Rush Hour 3\n",
            "59                                                              2012\n",
            "60                                                 A Christmas Carol\n",
            "61                                              The Legend of Tarzan\n",
            "62    The Chronicles of Narnia: The Lion, the Witch and the Wardrobe\n",
            "63                                                 X-Men: Apocalypse\n",
            "64                                                   The Dark Knight\n",
            "65                                                                Up\n",
            "66                                                Monsters vs Aliens\n",
            "67                                                          Iron Man\n",
            "68                                                              Hugo\n",
            "69                                                    Wild Wild West\n",
            "70                             The Mummy: Tomb of the Dragon Emperor\n",
            "71                                                     Suicide Squad\n",
            "72                                                     Evan Almighty\n",
            "73                                                  Edge of Tomorrow\n",
            "74                                                        Waterworld\n",
            "75                                       G.I. Joe: The Rise of Cobra\n",
            "76                                                        Inside Out\n",
            "77                                                   The Jungle Book\n",
            "78                                                        Iron Man 2\n",
            "79                                       Snow White and the Huntsman\n",
            "80                                                        Maleficent\n",
            "81                                    Dawn of the Planet of the Apes\n",
            "82                                                        The Lovers\n",
            "83                                                          47 Ronin\n",
            "84                               Captain America: The Winter Soldier\n",
            "85                                               Shrek Forever After\n",
            "86                                                      Tomorrowland\n",
            "87                                                        Big Hero 6\n",
            "88                                                    Wreck-It Ralph\n",
            "89                                                 The Polar Express\n",
            "90                                      Independence Day: Resurgence\n",
            "91                                          How to Train Your Dragon\n",
            "92                                Terminator 3: Rise of the Machines\n",
            "93                                           Guardians of the Galaxy\n",
            "94                                                      Interstellar\n",
            "95                                                         Inception\n",
            "96                                                     Shin Godzilla\n",
            "97                                 The Hobbit: An Unexpected Journey\n",
            "Name: title, dtype: object\n",
            "       id      title                                                   genres  \\\n",
            "95  27205  Inception  [Action, Thriller, Science Fiction, Mystery, Adventure]   \n",
            "\n",
            "    voteAverage  voteCount  popularity  \\\n",
            "95          8.1      13752   167.58371   \n",
            "\n",
            "                                                                                       keywords  \\\n",
            "95  [loss of lover, dream, kidnapping, sleep, subconsciousness, heist, redemption, female hero]   \n",
            "\n",
            "                                                                                                                                                                                                                                                                                    overview  \\\n",
            "95  Cobb, a skilled thief who commits corporate espionage by infiltrating the subconscious of his targets is offered a chance to regain his old life as payment for a task considered to be impossible: \"inception\", the implantation of another person's idea into a target's subconscious.   \n",
            "\n",
            "                                      generes_literal  weighted_vote  \n",
            "95  Action Thriller Science Fiction Mystery Adventure       7.719018  \n",
            "                                  title  voteAverage  weighted_vote\n",
            "93              Guardians of the Galaxy          7.9       7.475510\n",
            "84  Captain America: The Winter Soldier          7.6       7.143592\n",
            "67                             Iron Man          7.4       7.115003\n",
            "73                     Edge of Tomorrow          7.6       7.099561\n",
            "46           X-Men: Days of Future Past          7.5       7.098076\n",
            "47              Star Trek Into Darkness          7.4       6.976248\n",
            "51                          Pacific Rim          6.7       6.633544\n",
            "78                           Iron Man 2          6.6       6.585370\n",
            "56                     Star Trek Beyond          6.6       6.576550\n",
            "82                           The Lovers          4.8       6.550139\n"
          ]
        }
      ]
    },
    {
      "cell_type": "code",
      "source": [
        "print(similar_movies[['title', 'voteAverage']])"
      ],
      "metadata": {
        "colab": {
          "base_uri": "https://localhost:8080/"
        },
        "id": "VjCpR86lOhF9",
        "outputId": "b7045377-0398-45ef-f194-b270906dce40"
      },
      "execution_count": 34,
      "outputs": [
        {
          "output_type": "stream",
          "name": "stdout",
          "text": [
            "                                  title  voteAverage\n",
            "93              Guardians of the Galaxy          7.9\n",
            "84  Captain America: The Winter Soldier          7.6\n",
            "67                             Iron Man          7.4\n",
            "73                     Edge of Tomorrow          7.6\n",
            "46           X-Men: Days of Future Past          7.5\n",
            "47              Star Trek Into Darkness          7.4\n",
            "51                          Pacific Rim          6.7\n",
            "78                           Iron Man 2          6.6\n",
            "56                     Star Trek Beyond          6.6\n",
            "82                           The Lovers          4.8\n"
          ]
        }
      ]
    }
  ]
}