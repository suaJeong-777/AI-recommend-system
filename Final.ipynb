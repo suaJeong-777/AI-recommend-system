{
  "nbformat": 4,
  "nbformat_minor": 0,
  "metadata": {
    "colab": {
      "name": "Final.ipynb",
      "provenance": [],
      "authorship_tag": "ABX9TyPMgEMsfEvdQXg/tnqB1Vhd",
      "include_colab_link": true
    },
    "kernelspec": {
      "name": "python3",
      "display_name": "Python 3"
    },
    "language_info": {
      "name": "python"
    }
  },
  "cells": [
    {
      "cell_type": "markdown",
      "metadata": {
        "id": "view-in-github",
        "colab_type": "text"
      },
      "source": [
        "<a href=\"https://colab.research.google.com/github/suaJeong-777/AI-recommend-system/blob/main/Final.ipynb\" target=\"_parent\"><img src=\"https://colab.research.google.com/assets/colab-badge.svg\" alt=\"Open In Colab\"/></a>"
      ]
    },
    {
      "cell_type": "code",
      "execution_count": null,
      "metadata": {
        "id": "j2_U2N5x4I9h"
      },
      "outputs": [],
      "source": []
    },
    {
      "cell_type": "code",
      "source": [
        "from google.colab import drive\n",
        "drive.mount('/content/drive')"
      ],
      "metadata": {
        "colab": {
          "base_uri": "https://localhost:8080/"
        },
        "id": "Fvl51CYO4Jgd",
        "outputId": "8c10c66a-215a-4f06-d8fd-c59455006903"
      },
      "execution_count": 1,
      "outputs": [
        {
          "output_type": "stream",
          "name": "stdout",
          "text": [
            "Mounted at /content/drive\n"
          ]
        }
      ]
    },
    {
      "cell_type": "code",
      "source": [
        "import pandas as pd\n",
        "\n",
        "df = pd.read_csv('/content/drive/MyDrive/소개딩_2022/tmdb_product.csv', encoding='cp949',index_col=0)\n",
        "df"
      ],
      "metadata": {
        "colab": {
          "base_uri": "https://localhost:8080/",
          "height": 1000
        },
        "id": "KSpNnBRr4M0r",
        "outputId": "94e22d7c-0003-49a1-fb35-2ce9583881d2"
      },
      "execution_count": 9,
      "outputs": [
        {
          "output_type": "execute_result",
          "data": {
            "text/plain": [
              "                       title\n",
              "id                          \n",
              "19995                 플리츠 백팩\n",
              "285                    심플파우치\n",
              "206647               프린트 클러치\n",
              "49026                     백팩\n",
              "49529                    오브티\n",
              "559                      수영복\n",
              "38757                   명함지갑\n",
              "99861                  대나무칫솔\n",
              "767                    설거지비누\n",
              "209112                  삼베행주\n",
              "1452                   소창손수건\n",
              "10764        제로웨이스트 셀룰로오스 행주\n",
              "58                      드링크백\n",
              "57201                  소나무볼펜\n",
              "49521                   티코스터\n",
              "2454                 대나무 슬리퍼\n",
              "24428                   바디타올\n",
              "1865                   삼베마스크\n",
              "41154                  삼베 덮개\n",
              "122917              삼베 테이블매트\n",
              "1930                  생분해 빨대\n",
              "20662                   풀 빨대\n",
              "57158              텀블러 드링크 백\n",
              "2268                      티백\n",
              "254                디쉬 앤 베지 솝\n",
              "597            에코백 심플네이처 숄더 \n",
              "271110              투웨이 크로스백\n",
              "44833                멀티 파우치 \n",
              "135397           호텔 커플 나이트가운\n",
              "37724                드라이와플가운\n",
              "558               드라이타올 샤워가운\n",
              "68721             통통 기둥 밀랍 초\n",
              "12155                 대나무 빨대\n",
              "36668                 대나무 칫솔\n",
              "62211                  설거지비누\n",
              "8373            비즈왁스 공기정화 캔들\n",
              "91314          wasara 원형접시 S\n",
              "68728          wasara 사각접시 L\n",
              "102382             wasara 볼 \n",
              "20526              wasara 스푼\n",
              "49013            wasara  나이프\n",
              "44912              wasara 포크\n",
              "10193                   종이칫솔\n",
              "534                      비트차\n",
              "168259                   우엉차\n",
              "72190                   작두콩차\n",
              "127585             리프레싱 샴푸 바\n",
              "54138                  올인원 바\n",
              "81005                   비누받침\n",
              "64682                   튜브짜개\n",
              "9543                     월경컵\n",
              "68726                두루마리 휴지\n",
              "38356                   키친타올\n",
              "217                   테이블 휴지\n",
              "105864           규조토볼 디퓨저 원형\n",
              "62177            규조토볼 디퓨저 사각\n",
              "188927          종이 어플리케이터 탐폰\n",
              "10681         논어플리케이터 디지털 탐폰\n",
              "5174         종이 어플리케이터 탐폰 세트\n",
              "14161         논어플리케이터 디지털 탐폰\n",
              "17979             누르 울트라씬 중형\n",
              "258489             누르 나이트 대형\n",
              "411                누르 스타터 세트\n",
              "246655             누르 매니아 세트\n",
              "155       에코어스 편안한 면 생리대 라이너\n",
              "14160      에코어스 편안한 면 생리대 소형\n",
              "15512      에코어스 편안한 면 생리대 중형\n",
              "1726       에코어스 편안한 면 생리대 대형\n",
              "44826   에코어스 편안한 면 생리대 오버나이트\n",
              "8487              세탁용 과탄산소다솝\n",
              "1735           Go on 인센스 홀더 \n",
              "2698        재생펠트 펜트레이 멜란지그레이\n",
              "137113       재생펠트 펜트레이 다크그레이\n",
              "9804           재생펠트 펜트레이 오렌지\n",
              "14869                PCR 펜홀더\n",
              "150540        스낵이즈본 노즈워크 장난감\n",
              "278927       럽마베베 강아지 고양이 방석\n",
              "10138        럽마베베 강아지 고양이 방석\n",
              "58595      델루나 강아지 고양이 이불&베개\n",
              "102651                바다를 짜요\n",
              "119450                지구를 짜요\n",
              "79698                소재저금 인형\n",
              "64686            꼭두서니 텐셀 스카프\n",
              "100402            금잔화 텐셀 스카프\n",
              "10192             인디고 텐셀 스카프\n",
              "158852             석류 텐셀 스카프\n",
              "177572          꼭두서니 코튼 캡 모자\n",
              "82690            금잔화 코튼 캡 모자\n",
              "5255              오거나이저 메신저백\n",
              "47933         75D 리사이클 3단 우산\n",
              "10191           75D 리사이클 장우산\n",
              "296              600D 롤 크로스백\n",
              "118340  동구밭 풋귤 천연 설거지 비누 워싱바\n",
              "157336  동구밭 강아지 저자극 발비누 시어버터\n",
              "27205         동구밭 올바른 강아지 비누\n",
              "315011       동구밭 올바른 샴푸바 지성용\n",
              "49051            동구밭 올바른 린스바"
            ],
            "text/html": [
              "\n",
              "  <div id=\"df-1bcdf4e6-7c8a-4b2d-bec3-96e3a9efc6fd\">\n",
              "    <div class=\"colab-df-container\">\n",
              "      <div>\n",
              "<style scoped>\n",
              "    .dataframe tbody tr th:only-of-type {\n",
              "        vertical-align: middle;\n",
              "    }\n",
              "\n",
              "    .dataframe tbody tr th {\n",
              "        vertical-align: top;\n",
              "    }\n",
              "\n",
              "    .dataframe thead th {\n",
              "        text-align: right;\n",
              "    }\n",
              "</style>\n",
              "<table border=\"1\" class=\"dataframe\">\n",
              "  <thead>\n",
              "    <tr style=\"text-align: right;\">\n",
              "      <th></th>\n",
              "      <th>title</th>\n",
              "    </tr>\n",
              "    <tr>\n",
              "      <th>id</th>\n",
              "      <th></th>\n",
              "    </tr>\n",
              "  </thead>\n",
              "  <tbody>\n",
              "    <tr>\n",
              "      <th>19995</th>\n",
              "      <td>플리츠 백팩</td>\n",
              "    </tr>\n",
              "    <tr>\n",
              "      <th>285</th>\n",
              "      <td>심플파우치</td>\n",
              "    </tr>\n",
              "    <tr>\n",
              "      <th>206647</th>\n",
              "      <td>프린트 클러치</td>\n",
              "    </tr>\n",
              "    <tr>\n",
              "      <th>49026</th>\n",
              "      <td>백팩</td>\n",
              "    </tr>\n",
              "    <tr>\n",
              "      <th>49529</th>\n",
              "      <td>오브티</td>\n",
              "    </tr>\n",
              "    <tr>\n",
              "      <th>559</th>\n",
              "      <td>수영복</td>\n",
              "    </tr>\n",
              "    <tr>\n",
              "      <th>38757</th>\n",
              "      <td>명함지갑</td>\n",
              "    </tr>\n",
              "    <tr>\n",
              "      <th>99861</th>\n",
              "      <td>대나무칫솔</td>\n",
              "    </tr>\n",
              "    <tr>\n",
              "      <th>767</th>\n",
              "      <td>설거지비누</td>\n",
              "    </tr>\n",
              "    <tr>\n",
              "      <th>209112</th>\n",
              "      <td>삼베행주</td>\n",
              "    </tr>\n",
              "    <tr>\n",
              "      <th>1452</th>\n",
              "      <td>소창손수건</td>\n",
              "    </tr>\n",
              "    <tr>\n",
              "      <th>10764</th>\n",
              "      <td>제로웨이스트 셀룰로오스 행주</td>\n",
              "    </tr>\n",
              "    <tr>\n",
              "      <th>58</th>\n",
              "      <td>드링크백</td>\n",
              "    </tr>\n",
              "    <tr>\n",
              "      <th>57201</th>\n",
              "      <td>소나무볼펜</td>\n",
              "    </tr>\n",
              "    <tr>\n",
              "      <th>49521</th>\n",
              "      <td>티코스터</td>\n",
              "    </tr>\n",
              "    <tr>\n",
              "      <th>2454</th>\n",
              "      <td>대나무 슬리퍼</td>\n",
              "    </tr>\n",
              "    <tr>\n",
              "      <th>24428</th>\n",
              "      <td>바디타올</td>\n",
              "    </tr>\n",
              "    <tr>\n",
              "      <th>1865</th>\n",
              "      <td>삼베마스크</td>\n",
              "    </tr>\n",
              "    <tr>\n",
              "      <th>41154</th>\n",
              "      <td>삼베 덮개</td>\n",
              "    </tr>\n",
              "    <tr>\n",
              "      <th>122917</th>\n",
              "      <td>삼베 테이블매트</td>\n",
              "    </tr>\n",
              "    <tr>\n",
              "      <th>1930</th>\n",
              "      <td>생분해 빨대</td>\n",
              "    </tr>\n",
              "    <tr>\n",
              "      <th>20662</th>\n",
              "      <td>풀 빨대</td>\n",
              "    </tr>\n",
              "    <tr>\n",
              "      <th>57158</th>\n",
              "      <td>텀블러 드링크 백</td>\n",
              "    </tr>\n",
              "    <tr>\n",
              "      <th>2268</th>\n",
              "      <td>티백</td>\n",
              "    </tr>\n",
              "    <tr>\n",
              "      <th>254</th>\n",
              "      <td>디쉬 앤 베지 솝</td>\n",
              "    </tr>\n",
              "    <tr>\n",
              "      <th>597</th>\n",
              "      <td>에코백 심플네이처 숄더</td>\n",
              "    </tr>\n",
              "    <tr>\n",
              "      <th>271110</th>\n",
              "      <td>투웨이 크로스백</td>\n",
              "    </tr>\n",
              "    <tr>\n",
              "      <th>44833</th>\n",
              "      <td>멀티 파우치</td>\n",
              "    </tr>\n",
              "    <tr>\n",
              "      <th>135397</th>\n",
              "      <td>호텔 커플 나이트가운</td>\n",
              "    </tr>\n",
              "    <tr>\n",
              "      <th>37724</th>\n",
              "      <td>드라이와플가운</td>\n",
              "    </tr>\n",
              "    <tr>\n",
              "      <th>558</th>\n",
              "      <td>드라이타올 샤워가운</td>\n",
              "    </tr>\n",
              "    <tr>\n",
              "      <th>68721</th>\n",
              "      <td>통통 기둥 밀랍 초</td>\n",
              "    </tr>\n",
              "    <tr>\n",
              "      <th>12155</th>\n",
              "      <td>대나무 빨대</td>\n",
              "    </tr>\n",
              "    <tr>\n",
              "      <th>36668</th>\n",
              "      <td>대나무 칫솔</td>\n",
              "    </tr>\n",
              "    <tr>\n",
              "      <th>62211</th>\n",
              "      <td>설거지비누</td>\n",
              "    </tr>\n",
              "    <tr>\n",
              "      <th>8373</th>\n",
              "      <td>비즈왁스 공기정화 캔들</td>\n",
              "    </tr>\n",
              "    <tr>\n",
              "      <th>91314</th>\n",
              "      <td>wasara 원형접시 S</td>\n",
              "    </tr>\n",
              "    <tr>\n",
              "      <th>68728</th>\n",
              "      <td>wasara 사각접시 L</td>\n",
              "    </tr>\n",
              "    <tr>\n",
              "      <th>102382</th>\n",
              "      <td>wasara 볼</td>\n",
              "    </tr>\n",
              "    <tr>\n",
              "      <th>20526</th>\n",
              "      <td>wasara 스푼</td>\n",
              "    </tr>\n",
              "    <tr>\n",
              "      <th>49013</th>\n",
              "      <td>wasara  나이프</td>\n",
              "    </tr>\n",
              "    <tr>\n",
              "      <th>44912</th>\n",
              "      <td>wasara 포크</td>\n",
              "    </tr>\n",
              "    <tr>\n",
              "      <th>10193</th>\n",
              "      <td>종이칫솔</td>\n",
              "    </tr>\n",
              "    <tr>\n",
              "      <th>534</th>\n",
              "      <td>비트차</td>\n",
              "    </tr>\n",
              "    <tr>\n",
              "      <th>168259</th>\n",
              "      <td>우엉차</td>\n",
              "    </tr>\n",
              "    <tr>\n",
              "      <th>72190</th>\n",
              "      <td>작두콩차</td>\n",
              "    </tr>\n",
              "    <tr>\n",
              "      <th>127585</th>\n",
              "      <td>리프레싱 샴푸 바</td>\n",
              "    </tr>\n",
              "    <tr>\n",
              "      <th>54138</th>\n",
              "      <td>올인원 바</td>\n",
              "    </tr>\n",
              "    <tr>\n",
              "      <th>81005</th>\n",
              "      <td>비누받침</td>\n",
              "    </tr>\n",
              "    <tr>\n",
              "      <th>64682</th>\n",
              "      <td>튜브짜개</td>\n",
              "    </tr>\n",
              "    <tr>\n",
              "      <th>9543</th>\n",
              "      <td>월경컵</td>\n",
              "    </tr>\n",
              "    <tr>\n",
              "      <th>68726</th>\n",
              "      <td>두루마리 휴지</td>\n",
              "    </tr>\n",
              "    <tr>\n",
              "      <th>38356</th>\n",
              "      <td>키친타올</td>\n",
              "    </tr>\n",
              "    <tr>\n",
              "      <th>217</th>\n",
              "      <td>테이블 휴지</td>\n",
              "    </tr>\n",
              "    <tr>\n",
              "      <th>105864</th>\n",
              "      <td>규조토볼 디퓨저 원형</td>\n",
              "    </tr>\n",
              "    <tr>\n",
              "      <th>62177</th>\n",
              "      <td>규조토볼 디퓨저 사각</td>\n",
              "    </tr>\n",
              "    <tr>\n",
              "      <th>188927</th>\n",
              "      <td>종이 어플리케이터 탐폰</td>\n",
              "    </tr>\n",
              "    <tr>\n",
              "      <th>10681</th>\n",
              "      <td>논어플리케이터 디지털 탐폰</td>\n",
              "    </tr>\n",
              "    <tr>\n",
              "      <th>5174</th>\n",
              "      <td>종이 어플리케이터 탐폰 세트</td>\n",
              "    </tr>\n",
              "    <tr>\n",
              "      <th>14161</th>\n",
              "      <td>논어플리케이터 디지털 탐폰</td>\n",
              "    </tr>\n",
              "    <tr>\n",
              "      <th>17979</th>\n",
              "      <td>누르 울트라씬 중형</td>\n",
              "    </tr>\n",
              "    <tr>\n",
              "      <th>258489</th>\n",
              "      <td>누르 나이트 대형</td>\n",
              "    </tr>\n",
              "    <tr>\n",
              "      <th>411</th>\n",
              "      <td>누르 스타터 세트</td>\n",
              "    </tr>\n",
              "    <tr>\n",
              "      <th>246655</th>\n",
              "      <td>누르 매니아 세트</td>\n",
              "    </tr>\n",
              "    <tr>\n",
              "      <th>155</th>\n",
              "      <td>에코어스 편안한 면 생리대 라이너</td>\n",
              "    </tr>\n",
              "    <tr>\n",
              "      <th>14160</th>\n",
              "      <td>에코어스 편안한 면 생리대 소형</td>\n",
              "    </tr>\n",
              "    <tr>\n",
              "      <th>15512</th>\n",
              "      <td>에코어스 편안한 면 생리대 중형</td>\n",
              "    </tr>\n",
              "    <tr>\n",
              "      <th>1726</th>\n",
              "      <td>에코어스 편안한 면 생리대 대형</td>\n",
              "    </tr>\n",
              "    <tr>\n",
              "      <th>44826</th>\n",
              "      <td>에코어스 편안한 면 생리대 오버나이트</td>\n",
              "    </tr>\n",
              "    <tr>\n",
              "      <th>8487</th>\n",
              "      <td>세탁용 과탄산소다솝</td>\n",
              "    </tr>\n",
              "    <tr>\n",
              "      <th>1735</th>\n",
              "      <td>Go on 인센스 홀더</td>\n",
              "    </tr>\n",
              "    <tr>\n",
              "      <th>2698</th>\n",
              "      <td>재생펠트 펜트레이 멜란지그레이</td>\n",
              "    </tr>\n",
              "    <tr>\n",
              "      <th>137113</th>\n",
              "      <td>재생펠트 펜트레이 다크그레이</td>\n",
              "    </tr>\n",
              "    <tr>\n",
              "      <th>9804</th>\n",
              "      <td>재생펠트 펜트레이 오렌지</td>\n",
              "    </tr>\n",
              "    <tr>\n",
              "      <th>14869</th>\n",
              "      <td>PCR 펜홀더</td>\n",
              "    </tr>\n",
              "    <tr>\n",
              "      <th>150540</th>\n",
              "      <td>스낵이즈본 노즈워크 장난감</td>\n",
              "    </tr>\n",
              "    <tr>\n",
              "      <th>278927</th>\n",
              "      <td>럽마베베 강아지 고양이 방석</td>\n",
              "    </tr>\n",
              "    <tr>\n",
              "      <th>10138</th>\n",
              "      <td>럽마베베 강아지 고양이 방석</td>\n",
              "    </tr>\n",
              "    <tr>\n",
              "      <th>58595</th>\n",
              "      <td>델루나 강아지 고양이 이불&amp;베개</td>\n",
              "    </tr>\n",
              "    <tr>\n",
              "      <th>102651</th>\n",
              "      <td>바다를 짜요</td>\n",
              "    </tr>\n",
              "    <tr>\n",
              "      <th>119450</th>\n",
              "      <td>지구를 짜요</td>\n",
              "    </tr>\n",
              "    <tr>\n",
              "      <th>79698</th>\n",
              "      <td>소재저금 인형</td>\n",
              "    </tr>\n",
              "    <tr>\n",
              "      <th>64686</th>\n",
              "      <td>꼭두서니 텐셀 스카프</td>\n",
              "    </tr>\n",
              "    <tr>\n",
              "      <th>100402</th>\n",
              "      <td>금잔화 텐셀 스카프</td>\n",
              "    </tr>\n",
              "    <tr>\n",
              "      <th>10192</th>\n",
              "      <td>인디고 텐셀 스카프</td>\n",
              "    </tr>\n",
              "    <tr>\n",
              "      <th>158852</th>\n",
              "      <td>석류 텐셀 스카프</td>\n",
              "    </tr>\n",
              "    <tr>\n",
              "      <th>177572</th>\n",
              "      <td>꼭두서니 코튼 캡 모자</td>\n",
              "    </tr>\n",
              "    <tr>\n",
              "      <th>82690</th>\n",
              "      <td>금잔화 코튼 캡 모자</td>\n",
              "    </tr>\n",
              "    <tr>\n",
              "      <th>5255</th>\n",
              "      <td>오거나이저 메신저백</td>\n",
              "    </tr>\n",
              "    <tr>\n",
              "      <th>47933</th>\n",
              "      <td>75D 리사이클 3단 우산</td>\n",
              "    </tr>\n",
              "    <tr>\n",
              "      <th>10191</th>\n",
              "      <td>75D 리사이클 장우산</td>\n",
              "    </tr>\n",
              "    <tr>\n",
              "      <th>296</th>\n",
              "      <td>600D 롤 크로스백</td>\n",
              "    </tr>\n",
              "    <tr>\n",
              "      <th>118340</th>\n",
              "      <td>동구밭 풋귤 천연 설거지 비누 워싱바</td>\n",
              "    </tr>\n",
              "    <tr>\n",
              "      <th>157336</th>\n",
              "      <td>동구밭 강아지 저자극 발비누 시어버터</td>\n",
              "    </tr>\n",
              "    <tr>\n",
              "      <th>27205</th>\n",
              "      <td>동구밭 올바른 강아지 비누</td>\n",
              "    </tr>\n",
              "    <tr>\n",
              "      <th>315011</th>\n",
              "      <td>동구밭 올바른 샴푸바 지성용</td>\n",
              "    </tr>\n",
              "    <tr>\n",
              "      <th>49051</th>\n",
              "      <td>동구밭 올바른 린스바</td>\n",
              "    </tr>\n",
              "  </tbody>\n",
              "</table>\n",
              "</div>\n",
              "      <button class=\"colab-df-convert\" onclick=\"convertToInteractive('df-1bcdf4e6-7c8a-4b2d-bec3-96e3a9efc6fd')\"\n",
              "              title=\"Convert this dataframe to an interactive table.\"\n",
              "              style=\"display:none;\">\n",
              "        \n",
              "  <svg xmlns=\"http://www.w3.org/2000/svg\" height=\"24px\"viewBox=\"0 0 24 24\"\n",
              "       width=\"24px\">\n",
              "    <path d=\"M0 0h24v24H0V0z\" fill=\"none\"/>\n",
              "    <path d=\"M18.56 5.44l.94 2.06.94-2.06 2.06-.94-2.06-.94-.94-2.06-.94 2.06-2.06.94zm-11 1L8.5 8.5l.94-2.06 2.06-.94-2.06-.94L8.5 2.5l-.94 2.06-2.06.94zm10 10l.94 2.06.94-2.06 2.06-.94-2.06-.94-.94-2.06-.94 2.06-2.06.94z\"/><path d=\"M17.41 7.96l-1.37-1.37c-.4-.4-.92-.59-1.43-.59-.52 0-1.04.2-1.43.59L10.3 9.45l-7.72 7.72c-.78.78-.78 2.05 0 2.83L4 21.41c.39.39.9.59 1.41.59.51 0 1.02-.2 1.41-.59l7.78-7.78 2.81-2.81c.8-.78.8-2.07 0-2.86zM5.41 20L4 18.59l7.72-7.72 1.47 1.35L5.41 20z\"/>\n",
              "  </svg>\n",
              "      </button>\n",
              "      \n",
              "  <style>\n",
              "    .colab-df-container {\n",
              "      display:flex;\n",
              "      flex-wrap:wrap;\n",
              "      gap: 12px;\n",
              "    }\n",
              "\n",
              "    .colab-df-convert {\n",
              "      background-color: #E8F0FE;\n",
              "      border: none;\n",
              "      border-radius: 50%;\n",
              "      cursor: pointer;\n",
              "      display: none;\n",
              "      fill: #1967D2;\n",
              "      height: 32px;\n",
              "      padding: 0 0 0 0;\n",
              "      width: 32px;\n",
              "    }\n",
              "\n",
              "    .colab-df-convert:hover {\n",
              "      background-color: #E2EBFA;\n",
              "      box-shadow: 0px 1px 2px rgba(60, 64, 67, 0.3), 0px 1px 3px 1px rgba(60, 64, 67, 0.15);\n",
              "      fill: #174EA6;\n",
              "    }\n",
              "\n",
              "    [theme=dark] .colab-df-convert {\n",
              "      background-color: #3B4455;\n",
              "      fill: #D2E3FC;\n",
              "    }\n",
              "\n",
              "    [theme=dark] .colab-df-convert:hover {\n",
              "      background-color: #434B5C;\n",
              "      box-shadow: 0px 1px 3px 1px rgba(0, 0, 0, 0.15);\n",
              "      filter: drop-shadow(0px 1px 2px rgba(0, 0, 0, 0.3));\n",
              "      fill: #FFFFFF;\n",
              "    }\n",
              "  </style>\n",
              "\n",
              "      <script>\n",
              "        const buttonEl =\n",
              "          document.querySelector('#df-1bcdf4e6-7c8a-4b2d-bec3-96e3a9efc6fd button.colab-df-convert');\n",
              "        buttonEl.style.display =\n",
              "          google.colab.kernel.accessAllowed ? 'block' : 'none';\n",
              "\n",
              "        async function convertToInteractive(key) {\n",
              "          const element = document.querySelector('#df-1bcdf4e6-7c8a-4b2d-bec3-96e3a9efc6fd');\n",
              "          const dataTable =\n",
              "            await google.colab.kernel.invokeFunction('convertToInteractive',\n",
              "                                                     [key], {});\n",
              "          if (!dataTable) return;\n",
              "\n",
              "          const docLinkHtml = 'Like what you see? Visit the ' +\n",
              "            '<a target=\"_blank\" href=https://colab.research.google.com/notebooks/data_table.ipynb>data table notebook</a>'\n",
              "            + ' to learn more about interactive tables.';\n",
              "          element.innerHTML = '';\n",
              "          dataTable['output_type'] = 'display_data';\n",
              "          await google.colab.output.renderOutput(dataTable, element);\n",
              "          const docLink = document.createElement('div');\n",
              "          docLink.innerHTML = docLinkHtml;\n",
              "          element.appendChild(docLink);\n",
              "        }\n",
              "      </script>\n",
              "    </div>\n",
              "  </div>\n",
              "  "
            ]
          },
          "metadata": {},
          "execution_count": 9
        }
      ]
    },
    {
      "cell_type": "code",
      "source": [
        "import sklearn\n",
        "import pandas as pd\n",
        "import warnings; warnings.filterwarnings('ignore')\n",
        "pd.set_option('display.max_rows', None)\n",
        "pd.set_option('display.max_colwidth', None)\n",
        "\n",
        "movies = pd.read_csv('/content/drive/MyDrive/소개딩_2022/tmdb_5000_environment.csv',encoding='cp949')\n",
        "\n",
        "movies_df = movies[['id','title','genres','voteAverage', 'voteCount', 'popularity', 'keywords', 'overview']]\n",
        "\n",
        "from ast import literal_eval\n",
        "movies_df['genres'] = movies_df['genres'].apply(literal_eval)\n",
        "movies_df['keywords'] = movies_df['keywords'].apply(literal_eval)\n",
        "movies_df['genres'] = movies_df['genres'].apply(lambda x : [y['name'] for y in x])\n",
        "movies_df['keywords'] = movies_df['keywords'].apply(lambda x : [y['name'] for y in x])\n",
        "\n",
        "from sklearn.feature_extraction.text import CountVectorizer\n",
        "\n",
        "#CountVectorizer를 적용하기 위해 공백문자로 word단위가 구분되는 문자열로 변환.\n",
        "movies_df['generes_literal'] = movies_df['genres'].apply(lambda x :  (' ').join(x))\n",
        "count_vect = CountVectorizer(min_df=0, ngram_range=(1,2))\n",
        "genre_mat = count_vect.fit_transform(movies_df['generes_literal'])\n",
        "\n",
        "from sklearn.metrics.pairwise import cosine_similarity\n",
        "\n",
        "genre_sim = cosine_similarity(genre_mat, genre_mat)\n",
        "\n",
        "genre_sim_sorted_ind = genre_sim.argsort()[:,::-1]\n",
        "\n",
        "def find_sim_movie(df, sorted_ind, title_name, top_n=10):\n",
        "    #인자로 입력된 movies_df DataFrame에서 'title'칼럼이 입력된 title_name값인 DataFrame 추출\n",
        "    title_movie = df[df['title'] == title_name]\n",
        "\n",
        "    #title_named을 가진 DataFrame의 index객체를 ndarray로 반환하고\n",
        "    #sorted_ind 인자로 입력된 genre_sim_sorted_ind 객체에서 유사도 순으로 top_n개의 index추출\n",
        "    title_index = title_movie.index.values\n",
        "    similar_indexes = sorted_ind[title_index, :(top_n)]\n",
        "\n",
        "    #추출된 top_n index출력, top_n index는 2차원 데이터임\n",
        "    #dataframe에서 index로 사용하기 위해서 1차원 array로 변경\n",
        "    print(similar_indexes)\n",
        "    similar_indexes = similar_indexes.reshape(-1)\n",
        "\n",
        "    return df.iloc[similar_indexes]\n",
        "\n",
        "def movie_list(products):\n",
        "  similar_movies = find_sim_movie(movies_df, genre_sim_sorted_ind, products, 5)  #찾고자 하는 데이터와 유사한 것\n",
        "  return (similar_movies[['title']]) \n",
        "\n",
        "test_results= \"티백\"  #추후 테스트 결과값을 받아오는 부분(수정 필요)\n",
        "\n"
      ],
      "metadata": {
        "id": "n-bXyXRz7PKL"
      },
      "execution_count": 10,
      "outputs": []
    },
    {
      "cell_type": "code",
      "source": [
        "import sklearn\n",
        "import pandas as pd\n",
        "import warnings; warnings.filterwarnings('ignore')\n",
        "pd.set_option('display.max_rows', None)\n",
        "pd.set_option('display.max_colwidth', None)\n",
        "\n",
        "movies = pd.read_csv('/content/drive/MyDrive/소개딩_2022/tmdb_5000_environment.csv',encoding='cp949')\n",
        "\n",
        "movies_df = movies[['id','title','genres','voteAverage', 'voteCount', 'popularity', 'keywords', 'overview']]\n",
        "\n",
        "from ast import literal_eval\n",
        "movies_df['genres'] = movies_df['genres'].apply(literal_eval)\n",
        "movies_df['keywords'] = movies_df['keywords'].apply(literal_eval)\n",
        "movies_df['genres'] = movies_df['genres'].apply(lambda x : [y['name'] for y in x])\n",
        "movies_df['keywords'] = movies_df['keywords'].apply(lambda x : [y['name'] for y in x])\n",
        "\n",
        "from sklearn.feature_extraction.text import CountVectorizer\n",
        "\n",
        "#CountVectorizer를 적용하기 위해 공백문자로 word단위가 구분되는 문자열로 변환.\n",
        "movies_df['generes_literal'] = movies_df['genres'].apply(lambda x :  (' ').join(x))\n",
        "count_vect = CountVectorizer(min_df=0, ngram_range=(1,2))\n",
        "genre_mat = count_vect.fit_transform(movies_df['generes_literal'])\n",
        "\n",
        "from sklearn.metrics.pairwise import cosine_similarity\n",
        "\n",
        "genre_sim = cosine_similarity(genre_mat, genre_mat)\n",
        "\n",
        "genre_sim_sorted_ind = genre_sim.argsort()[:,::-1]\n",
        "\n",
        "def find_sim_movie(df, sorted_ind, title_name, top_n=10):\n",
        "    #인자로 입력된 movies_df DataFrame에서 'title'칼럼이 입력된 title_name값인 DataFrame 추출\n",
        "    title_movie = df[df['title'] == title_name]\n",
        "\n",
        "    #title_named을 가진 DataFrame의 index객체를 ndarray로 반환하고\n",
        "    #sorted_ind 인자로 입력된 genre_sim_sorted_ind 객체에서 유사도 순으로 top_n개의 index추출\n",
        "    title_index = title_movie.index.values\n",
        "    similar_indexes = sorted_ind[title_index, :(top_n)]\n",
        "\n",
        "    #추출된 top_n index출력, top_n index는 2차원 데이터임\n",
        "    #dataframe에서 index로 사용하기 위해서 1차원 array로 변경\n",
        "    print(similar_indexes)\n",
        "    similar_indexes = similar_indexes.reshape(-1)\n",
        "\n",
        "    return df.iloc[similar_indexes]\n",
        "\n",
        "def movie_list(products):\n",
        "  similar_movies = find_sim_movie(movies_df, genre_sim_sorted_ind, products, 5)  #찾고자 하는 데이터와 유사한 것\n",
        "  return (similar_movies[['title']]) \n",
        "\n",
        "test_results= \"PCR 펜홀더\"  #추후 테스트 결과값을 받아오는 부분(수정 필요)\n",
        "\n"
      ],
      "metadata": {
        "id": "bIme0zP4z_ZE"
      },
      "execution_count": 30,
      "outputs": []
    },
    {
      "cell_type": "code",
      "source": [
        "print(movie_list(test_results))"
      ],
      "metadata": {
        "colab": {
          "base_uri": "https://localhost:8080/"
        },
        "id": "AyZ2bCLV7Wne",
        "outputId": "83b031b7-ff2b-4ceb-b865-64d494ed9b09"
      },
      "execution_count": 34,
      "outputs": [
        {
          "output_type": "stream",
          "name": "stdout",
          "text": [
            "[[72 73 74 75 48]]\n",
            "               title\n",
            "72  재생펠트 펜트레이 멜란지그레이\n",
            "73   재생펠트 펜트레이 다크그레이\n",
            "74     재생펠트 펜트레이 오렌지\n",
            "75           PCR 펜홀더\n",
            "48              비누받침\n"
          ]
        }
      ]
    },
    {
      "cell_type": "code",
      "source": [
        "list_products= movie_list(test_results).to_dict()\n",
        "recommend_product=list_products['title'].values()\n",
        "recommend_list=list(recommend_product)"
      ],
      "metadata": {
        "colab": {
          "base_uri": "https://localhost:8080/"
        },
        "id": "v_IhOjir1VuS",
        "outputId": "21bc8c3b-f7ab-44e0-d1e8-ad9f63cf061e"
      },
      "execution_count": 35,
      "outputs": [
        {
          "output_type": "stream",
          "name": "stdout",
          "text": [
            "[[72 73 74 75 48]]\n"
          ]
        }
      ]
    },
    {
      "cell_type": "code",
      "source": [
        "movie_list(test_results)['title'].to_list()"
      ],
      "metadata": {
        "colab": {
          "base_uri": "https://localhost:8080/"
        },
        "id": "V_bSeRHo17cw",
        "outputId": "6b3792e7-23f3-4c35-eead-be16e0da94ae"
      },
      "execution_count": 36,
      "outputs": [
        {
          "output_type": "stream",
          "name": "stdout",
          "text": [
            "[[72 73 74 75 48]]\n"
          ]
        },
        {
          "output_type": "execute_result",
          "data": {
            "text/plain": [
              "['재생펠트 펜트레이 멜란지그레이', '재생펠트 펜트레이 다크그레이', '재생펠트 펜트레이 오렌지', 'PCR 펜홀더', '비누받침']"
            ]
          },
          "metadata": {},
          "execution_count": 36
        }
      ]
    },
    {
      "cell_type": "code",
      "source": [
        "print(movie_list(test_results).iloc[4].to_list())"
      ],
      "metadata": {
        "colab": {
          "base_uri": "https://localhost:8080/"
        },
        "id": "zEdVDPJa2OqH",
        "outputId": "e9c4bede-4060-406b-bf2c-178300611af6"
      },
      "execution_count": 37,
      "outputs": [
        {
          "output_type": "stream",
          "name": "stdout",
          "text": [
            "[[72 73 74 75 48]]\n",
            "['비누받침']\n"
          ]
        }
      ]
    },
    {
      "cell_type": "code",
      "source": [
        "test= str(movie_list(test_results).iloc[4].to_list())\n",
        "test"
      ],
      "metadata": {
        "colab": {
          "base_uri": "https://localhost:8080/",
          "height": 54
        },
        "id": "4iWC6ni-16mk",
        "outputId": "06885a82-bd00-4dc3-f48a-f3ce25606e6a"
      },
      "execution_count": 56,
      "outputs": [
        {
          "output_type": "stream",
          "name": "stdout",
          "text": [
            "[[72 73 74 75 48]]\n"
          ]
        },
        {
          "output_type": "execute_result",
          "data": {
            "text/plain": [
              "\"['비누받침']\""
            ],
            "application/vnd.google.colaboratory.intrinsic+json": {
              "type": "string"
            }
          },
          "metadata": {},
          "execution_count": 56
        }
      ]
    },
    {
      "cell_type": "code",
      "source": [
        "test.replace('[','')\n",
        "test"
      ],
      "metadata": {
        "colab": {
          "base_uri": "https://localhost:8080/",
          "height": 35
        },
        "id": "iuPiRTjz60gn",
        "outputId": "f6019723-b1d4-4832-a598-61e81334ca23"
      },
      "execution_count": 51,
      "outputs": [
        {
          "output_type": "execute_result",
          "data": {
            "text/plain": [
              "\"['비누받침']\""
            ],
            "application/vnd.google.colaboratory.intrinsic+json": {
              "type": "string"
            }
          },
          "metadata": {},
          "execution_count": 51
        }
      ]
    },
    {
      "cell_type": "code",
      "source": [
        "len(test)"
      ],
      "metadata": {
        "colab": {
          "base_uri": "https://localhost:8080/"
        },
        "id": "QZLh69jE6NOW",
        "outputId": "e4d63442-f98f-47e7-a6ca-2c9538dd89d2"
      },
      "execution_count": 57,
      "outputs": [
        {
          "output_type": "execute_result",
          "data": {
            "text/plain": [
              "8"
            ]
          },
          "metadata": {},
          "execution_count": 57
        }
      ]
    },
    {
      "cell_type": "code",
      "source": [
        "test[2:-2]"
      ],
      "metadata": {
        "colab": {
          "base_uri": "https://localhost:8080/",
          "height": 35
        },
        "id": "B2WzFTZL6SoY",
        "outputId": "439fc4df-b3b4-4624-c9bc-282c5ef1a800"
      },
      "execution_count": 59,
      "outputs": [
        {
          "output_type": "execute_result",
          "data": {
            "text/plain": [
              "'비누받침'"
            ],
            "application/vnd.google.colaboratory.intrinsic+json": {
              "type": "string"
            }
          },
          "metadata": {},
          "execution_count": 59
        }
      ]
    },
    {
      "cell_type": "code",
      "source": [
        "test2= str(movie_list(test_results).iloc[3].to_list())\n",
        "test2"
      ],
      "metadata": {
        "colab": {
          "base_uri": "https://localhost:8080/",
          "height": 54
        },
        "id": "6T0f85Pj7Sk_",
        "outputId": "60ab42e8-4a61-40ef-c951-ebbd31ee5381"
      },
      "execution_count": 53,
      "outputs": [
        {
          "output_type": "stream",
          "name": "stdout",
          "text": [
            "[[72 73 74 75 48]]\n"
          ]
        },
        {
          "output_type": "execute_result",
          "data": {
            "text/plain": [
              "\"['PCR 펜홀더']\""
            ],
            "application/vnd.google.colaboratory.intrinsic+json": {
              "type": "string"
            }
          },
          "metadata": {},
          "execution_count": 53
        }
      ]
    },
    {
      "cell_type": "code",
      "source": [
        "len(test2)"
      ],
      "metadata": {
        "colab": {
          "base_uri": "https://localhost:8080/"
        },
        "id": "Y1V88RSh7Wzj",
        "outputId": "a51c1599-fdc0-4dd3-966a-b37f3d6114b5"
      },
      "execution_count": 54,
      "outputs": [
        {
          "output_type": "execute_result",
          "data": {
            "text/plain": [
              "11"
            ]
          },
          "metadata": {},
          "execution_count": 54
        }
      ]
    },
    {
      "cell_type": "code",
      "source": [
        "test2[2:-2]"
      ],
      "metadata": {
        "colab": {
          "base_uri": "https://localhost:8080/",
          "height": 35
        },
        "id": "1spaBvsW7bV7",
        "outputId": "58152a66-0346-4244-f2f8-ed4a77af97cd"
      },
      "execution_count": 60,
      "outputs": [
        {
          "output_type": "execute_result",
          "data": {
            "text/plain": [
              "'PCR 펜홀더'"
            ],
            "application/vnd.google.colaboratory.intrinsic+json": {
              "type": "string"
            }
          },
          "metadata": {},
          "execution_count": 60
        }
      ]
    },
    {
      "cell_type": "code",
      "source": [
        "type(movie_list(test_results))"
      ],
      "metadata": {
        "colab": {
          "base_uri": "https://localhost:8080/"
        },
        "id": "IDeMrPIk0uM7",
        "outputId": "18bd0666-f2a7-4b79-de50-3ed2198a163b"
      },
      "execution_count": 19,
      "outputs": [
        {
          "output_type": "stream",
          "name": "stdout",
          "text": [
            "[[23 45 44 43 17]]\n"
          ]
        },
        {
          "output_type": "execute_result",
          "data": {
            "text/plain": [
              "pandas.core.frame.DataFrame"
            ]
          },
          "metadata": {},
          "execution_count": 19
        }
      ]
    },
    {
      "cell_type": "code",
      "source": [
        "list_product= movie_list(test_results).values.tolist()"
      ],
      "metadata": {
        "colab": {
          "base_uri": "https://localhost:8080/"
        },
        "id": "lshcjeLj7sXW",
        "outputId": "df06eed9-9a97-4d41-fdd0-0457141a84b6"
      },
      "execution_count": 20,
      "outputs": [
        {
          "output_type": "stream",
          "name": "stdout",
          "text": [
            "[[23 45 44 43 17]]\n"
          ]
        }
      ]
    },
    {
      "cell_type": "code",
      "source": [
        "type(list_product)"
      ],
      "metadata": {
        "colab": {
          "base_uri": "https://localhost:8080/"
        },
        "id": "O7ThpQlM05Mn",
        "outputId": "f35dda3f-6082-4ce2-ba1f-de308138748c"
      },
      "execution_count": 21,
      "outputs": [
        {
          "output_type": "execute_result",
          "data": {
            "text/plain": [
              "list"
            ]
          },
          "metadata": {},
          "execution_count": 21
        }
      ]
    },
    {
      "cell_type": "code",
      "source": [
        "movie_list(test_results).title"
      ],
      "metadata": {
        "colab": {
          "base_uri": "https://localhost:8080/"
        },
        "id": "U5iR6cPQ75Qj",
        "outputId": "020eeb86-018a-44b8-ea1a-be496eb6916a"
      },
      "execution_count": 13,
      "outputs": [
        {
          "output_type": "stream",
          "name": "stdout",
          "text": [
            "[[23 45 44 43 17]]\n"
          ]
        },
        {
          "output_type": "execute_result",
          "data": {
            "text/plain": [
              "23       티백\n",
              "45     작두콩차\n",
              "44      우엉차\n",
              "43      비트차\n",
              "17    삼베마스크\n",
              "Name: title, dtype: object"
            ]
          },
          "metadata": {},
          "execution_count": 13
        }
      ]
    },
    {
      "cell_type": "code",
      "source": [],
      "metadata": {
        "id": "JXOQU0HF9Zsi"
      },
      "execution_count": 6,
      "outputs": []
    }
  ]
}