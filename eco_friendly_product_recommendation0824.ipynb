{
  "nbformat": 4,
  "nbformat_minor": 0,
  "metadata": {
    "colab": {
      "name": "eco friendly product recommendation0824.ipynb",
      "provenance": [],
      "mount_file_id": "1mLCh_w4JRPLq7Cw-aBZjt6NWmU3-vjUw",
      "authorship_tag": "ABX9TyOJ3ImACDm0TFZ0LAxhdepj",
      "include_colab_link": true
    },
    "kernelspec": {
      "name": "python3",
      "display_name": "Python 3"
    },
    "language_info": {
      "name": "python"
    }
  },
  "cells": [
    {
      "cell_type": "markdown",
      "metadata": {
        "id": "view-in-github",
        "colab_type": "text"
      },
      "source": [
        "<a href=\"https://colab.research.google.com/github/suaJeong-777/AI-recommend-system/blob/main/eco_friendly_product_recommendation0824.ipynb\" target=\"_parent\"><img src=\"https://colab.research.google.com/assets/colab-badge.svg\" alt=\"Open In Colab\"/></a>"
      ]
    },
    {
      "cell_type": "code",
      "source": [
        "from google.colab import drive\n",
        "drive.mount('/content/drive')"
      ],
      "metadata": {
        "colab": {
          "base_uri": "https://localhost:8080/"
        },
        "id": "Xh7leGDN9ZHa",
        "outputId": "8246ec10-5694-4b2d-ea00-7dfe57e93a66"
      },
      "execution_count": null,
      "outputs": [
        {
          "output_type": "stream",
          "name": "stdout",
          "text": [
            "Mounted at /content/drive\n"
          ]
        }
      ]
    },
    {
      "cell_type": "code",
      "execution_count": null,
      "metadata": {
        "id": "GyIivCabrbb7",
        "colab": {
          "base_uri": "https://localhost:8080/"
        },
        "outputId": "1576160c-23c8-4557-9d5e-2f6a620c77df"
      },
      "outputs": [
        {
          "output_type": "stream",
          "name": "stdout",
          "text": [
            "0    [{\"id\": 6, \"name\": \"clothes\"}, {\"id\": 63, \"name\": \"bag\"}, {\"id\": 10, \"name\": \"material\"}, {\"id\": 103, \"name\": \"plastic\"}]\n",
            "Name: genres, dtype: object\n",
            "0    [{\"id\": 63, \"name\": \"bag\"}, {\"id\": 103, \"name\": \"plastic\"}]\n",
            "Name: keywords, dtype: object\n"
          ]
        }
      ],
      "source": [
        "import pandas as pd\n",
        "import warnings; warnings.filterwarnings('ignore')\n",
        "pd.set_option('display.max_rows', None)\n",
        "pd.set_option('display.max_colwidth', None)\n",
        "\n",
        "movies = pd.read_csv(r'/content/drive/MyDrive/소개딩_2022/tmdb_5000_environment.csv',encoding='cp949')\n",
        "# print(movies.shape)\n",
        "# print(movies.head(10))\n",
        "\n",
        "movies_df = movies[['id','title','genres','voteAverage', 'voteCount', 'popularity', 'keywords', 'overview']]\n",
        "print(movies_df['genres'].head(1))\n",
        "print(movies_df['keywords'].head(1))"
      ]
    },
    {
      "cell_type": "code",
      "source": [
        "from ast import literal_eval\n",
        "movies_df['genres'] = movies_df['genres'].apply(literal_eval)\n",
        "movies_df['keywords'] = movies_df['keywords'].apply(literal_eval)\n",
        "movies_df['genres'] = movies_df['genres'].apply(lambda x : [y['name'] for y in x])\n",
        "movies_df['keywords'] = movies_df['keywords'].apply(lambda x : [y['name'] for y in x])\n",
        "print(movies_df['genres'].head(1))\n",
        "print(movies_df['keywords'].head(1))"
      ],
      "metadata": {
        "colab": {
          "base_uri": "https://localhost:8080/"
        },
        "id": "HiwB14yDGAlc",
        "outputId": "d112d995-6293-401d-b192-0850c07467ab"
      },
      "execution_count": null,
      "outputs": [
        {
          "output_type": "stream",
          "name": "stdout",
          "text": [
            "0    [clothes, bag, material, plastic]\n",
            "Name: genres, dtype: object\n",
            "0    [bag, plastic]\n",
            "Name: keywords, dtype: object\n"
          ]
        }
      ]
    },
    {
      "cell_type": "code",
      "source": [
        "from sklearn.feature_extraction.text import CountVectorizer\n",
        "\n",
        "#CountVectorizer를 적용하기 위해 공백문자로 word단위가 구분되는 문자열로 변환.\n",
        "movies_df['generes_literal'] = movies_df['genres'].apply(lambda x :  (' ').join(x))\n",
        "print(movies_df['generes_literal'].head(10))\n",
        "count_vect = CountVectorizer(min_df=0, ngram_range=(1,2))\n",
        "genre_mat = count_vect.fit_transform(movies_df['generes_literal'])\n",
        "print(genre_mat)\n",
        "print(genre_mat.shape)"
      ],
      "metadata": {
        "colab": {
          "base_uri": "https://localhost:8080/"
        },
        "id": "Dr-1SoweGCCe",
        "outputId": "585d4c56-f409-4d2e-e41c-a20ce64d34e7"
      },
      "execution_count": null,
      "outputs": [
        {
          "output_type": "stream",
          "name": "stdout",
          "text": [
            "0         clothes bag material plastic\n",
            "1         clothes pouch matrial fabric\n",
            "2         clothes bag material leather\n",
            "3          clothes bag material others\n",
            "4          clothes top material fabric\n",
            "5    clothes underwear material others\n",
            "6      clothes wallet material leather\n",
            "7     beauty toothbrush material woods\n",
            "8       kitchen others material others\n",
            "9    kitchen dishcloth material fabric\n",
            "Name: generes_literal, dtype: object\n",
            "  (0, 9)\t1\n",
            "  (0, 0)\t1\n",
            "  (0, 50)\t1\n",
            "  (0, 65)\t1\n",
            "  (0, 10)\t1\n",
            "  (0, 1)\t1\n",
            "  (0, 55)\t1\n",
            "  (1, 9)\t1\n",
            "  (1, 66)\t1\n",
            "  (1, 57)\t1\n",
            "  (1, 32)\t1\n",
            "  (1, 12)\t1\n",
            "  (1, 67)\t1\n",
            "  (1, 58)\t1\n",
            "  (2, 9)\t1\n",
            "  (2, 0)\t1\n",
            "  (2, 50)\t1\n",
            "  (2, 10)\t1\n",
            "  (2, 1)\t1\n",
            "  (2, 47)\t1\n",
            "  (2, 53)\t1\n",
            "  (3, 9)\t1\n",
            "  (3, 0)\t1\n",
            "  (3, 50)\t1\n",
            "  (3, 10)\t1\n",
            "  :\t:\n",
            "  (94, 59)\t2\n",
            "  (94, 54)\t1\n",
            "  (94, 60)\t1\n",
            "  (94, 63)\t1\n",
            "  (94, 64)\t1\n",
            "  (95, 50)\t1\n",
            "  (95, 59)\t2\n",
            "  (95, 54)\t1\n",
            "  (95, 60)\t1\n",
            "  (95, 63)\t1\n",
            "  (95, 64)\t1\n",
            "  (96, 50)\t1\n",
            "  (96, 59)\t1\n",
            "  (96, 54)\t1\n",
            "  (96, 2)\t1\n",
            "  (96, 68)\t1\n",
            "  (96, 3)\t1\n",
            "  (96, 69)\t1\n",
            "  (97, 50)\t1\n",
            "  (97, 59)\t1\n",
            "  (97, 54)\t1\n",
            "  (97, 2)\t1\n",
            "  (97, 68)\t1\n",
            "  (97, 3)\t1\n",
            "  (97, 69)\t1\n",
            "(98, 93)\n"
          ]
        }
      ]
    },
    {
      "cell_type": "code",
      "source": [
        "from sklearn.metrics.pairwise import cosine_similarity\n",
        "\n",
        "genre_sim = cosine_similarity(genre_mat, genre_mat)\n",
        "print(genre_sim.shape)\n",
        "print(genre_sim[:1])"
      ],
      "metadata": {
        "colab": {
          "base_uri": "https://localhost:8080/"
        },
        "id": "bQ9FJXFbGGJ6",
        "outputId": "d572962c-b5aa-4537-fb5a-08f420ba2afd"
      },
      "execution_count": null,
      "outputs": [
        {
          "output_type": "stream",
          "name": "stdout",
          "text": [
            "(98, 98)\n",
            "[[1.         0.14285714 0.71428571 0.71428571 0.28571429 0.28571429\n",
            "  0.28571429 0.14285714 0.12598816 0.14285714 0.14285714 0.14285714\n",
            "  0.14285714 0.14285714 0.12598816 0.28571429 0.14285714 0.14285714\n",
            "  0.14285714 0.14285714 0.14285714 0.14285714 0.14285714 0.14285714\n",
            "  0.12598816 0.71428571 0.71428571 0.71428571 0.14285714 0.14285714\n",
            "  0.12598816 0.14285714 0.14285714 0.14285714 0.12598816 0.14285714\n",
            "  0.14285714 0.14285714 0.14285714 0.14285714 0.14285714 0.14285714\n",
            "  0.14285714 0.14285714 0.14285714 0.14285714 0.         0.\n",
            "  0.42857143 0.42857143 0.42857143 0.14285714 0.14285714 0.14285714\n",
            "  0.14285714 0.14285714 0.14285714 0.14285714 0.14285714 0.14285714\n",
            "  0.14285714 0.14285714 0.14285714 0.14285714 0.14285714 0.14285714\n",
            "  0.14285714 0.14285714 0.14285714 0.12598816 0.42857143 0.42857143\n",
            "  0.42857143 0.42857143 0.42857143 0.42857143 0.14285714 0.14285714\n",
            "  0.14285714 0.14285714 0.14285714 0.42857143 0.42857143 0.28571429\n",
            "  0.28571429 0.28571429 0.28571429 0.28571429 0.28571429 1.\n",
            "  0.42857143 0.42857143 1.         0.12598816 0.12598816 0.12598816\n",
            "  0.14285714 0.14285714]]\n"
          ]
        }
      ]
    },
    {
      "cell_type": "code",
      "source": [
        "genre_sim_sorted_ind = genre_sim.argsort()[:,::-1]\n",
        "print(genre_sim_sorted_ind[:1])"
      ],
      "metadata": {
        "colab": {
          "base_uri": "https://localhost:8080/"
        },
        "id": "1dYtSarmGSAf",
        "outputId": "6f8032a0-7cdb-46f8-a8ef-152ebbdb3331"
      },
      "execution_count": null,
      "outputs": [
        {
          "output_type": "stream",
          "name": "stdout",
          "text": [
            "[[ 0 92 89  2  3 25 26 27 75 49 50 70 71 72 73 74 48 91 81 82 90 84 86 88\n",
            "  87  6 15 85 83  5  4 29 28 80 36 31 32 33 35 22 37 23 17 21 20 19 18 39\n",
            "  16 13 12 11 10  9  7  1 38 40 79 64 41 59 60 61 62 63 65 56 66 67 68 76\n",
            "  77 78 57 58 55 96 42 43 44 45 54 97 51 52 53 14 30  8 34 69 93 94 95 24\n",
            "  47 46]]\n"
          ]
        }
      ]
    },
    {
      "cell_type": "code",
      "source": [
        "products=input(\"상품을 입력하세요: \")"
      ],
      "metadata": {
        "colab": {
          "base_uri": "https://localhost:8080/"
        },
        "id": "uzhVSjndiwu5",
        "outputId": "d9b121b5-681b-49a9-8b85-c276d1d33ee6"
      },
      "execution_count": null,
      "outputs": [
        {
          "name": "stdout",
          "output_type": "stream",
          "text": [
            "상품을 입력하세요: 대나무 슬리퍼\n"
          ]
        }
      ]
    },
    {
      "cell_type": "code",
      "source": [
        "def find_sim_movie(df, sorted_ind, title_name, top_n=10):\n",
        "    #인자로 입력된 movies_df DataFrame에서 'title'칼럼이 입력된 title_name값인 DataFrame 추출\n",
        "    title_movie = df[df['title'] == title_name]\n",
        "\n",
        "    #title_named을 가진 DataFrame의 index객체를 ndarray로 반환하고\n",
        "    #sorted_ind 인자로 입력된 genre_sim_sorted_ind 객체에서 유사도 순으로 top_n개의 index추출\n",
        "    title_index = title_movie.index.values\n",
        "    similar_indexes = sorted_ind[title_index, :(top_n)]\n",
        "\n",
        "    #추출된 top_n index출력, top_n index는 2차원 데이터임\n",
        "    #dataframe에서 index로 사용하기 위해서 1차원 array로 변경\n",
        "    print(similar_indexes)\n",
        "    similar_indexes = similar_indexes.reshape(-1)\n",
        "\n",
        "    return df.iloc[similar_indexes]\n",
        "\n",
        "similar_movies = find_sim_movie(movies_df, genre_sim_sorted_ind, products, 5)   # 찾고자 하는 데이터와 유사한 것\n",
        "print(similar_movies.info())\n",
        "print(similar_movies)\n",
        "print(similar_movies[['title', 'voteCount', 'voteAverage']])"
      ],
      "metadata": {
        "colab": {
          "base_uri": "https://localhost:8080/"
        },
        "id": "CT-pBHQ7GVXK",
        "outputId": "ce4a32be-1b86-4bfa-ad5b-7663abe79a9a"
      },
      "execution_count": null,
      "outputs": [
        {
          "output_type": "stream",
          "name": "stdout",
          "text": [
            "[[15 45 53 44  7]]\n",
            "<class 'pandas.core.frame.DataFrame'>\n",
            "Int64Index: 5 entries, 15 to 7\n",
            "Data columns (total 9 columns):\n",
            " #   Column           Non-Null Count  Dtype  \n",
            "---  ------           --------------  -----  \n",
            " 0   id               5 non-null      int64  \n",
            " 1   title            5 non-null      object \n",
            " 2   genres           5 non-null      object \n",
            " 3   voteAverage      5 non-null      float64\n",
            " 4   voteCount        5 non-null      int64  \n",
            " 5   popularity       5 non-null      float64\n",
            " 6   keywords         5 non-null      object \n",
            " 7   overview         5 non-null      object \n",
            " 8   generes_literal  5 non-null      object \n",
            "dtypes: float64(2), int64(2), object(5)\n",
            "memory usage: 400.0+ bytes\n",
            "None\n",
            "        id    title                                 genres  voteAverage  \\\n",
            "15    2454  대나무 슬리퍼      [clothes, shoes, material, woods]          6.3   \n",
            "45   72190     작두콩차           [food, tea, material, woods]          6.7   \n",
            "53     217   테이블 휴지       [items, others, material, woods]          5.7   \n",
            "44  168259      우엉차           [food, tea, material, woods]          7.3   \n",
            "7    99861    대나무칫솔  [beauty, toothbrush, material, woods]          7.3   \n",
            "\n",
            "    voteCount  popularity             keywords  \\\n",
            "15       1630   53.978602       [shoes, woods]   \n",
            "45       5560   81.834855         [tea, woods]   \n",
            "53       2495   75.674458      [others, woods]   \n",
            "44       4176  102.322217         [tea, woods]   \n",
            "7        6767  134.279229  [toothbrush, woods]   \n",
            "\n",
            "                                       overview  \\\n",
            "15                      slippers made of bamboo   \n",
            "45            tea made from zero waste farming    \n",
            "53   tissue paper made of milk containter paper   \n",
            "44            tea made from zero waste farming    \n",
            "7   toothbrush made of woods especially bamboo    \n",
            "\n",
            "                     generes_literal  \n",
            "15      clothes shoes material woods  \n",
            "45           food tea material woods  \n",
            "53       items others material woods  \n",
            "44           food tea material woods  \n",
            "7   beauty toothbrush material woods  \n",
            "      title  voteCount  voteAverage\n",
            "15  대나무 슬리퍼       1630          6.3\n",
            "45     작두콩차       5560          6.7\n",
            "53   테이블 휴지       2495          5.7\n",
            "44      우엉차       4176          7.3\n",
            "7     대나무칫솔       6767          7.3\n"
          ]
        }
      ]
    },
    {
      "cell_type": "code",
      "source": [
        "similar_movies = find_sim_movie(movies_df, genre_sim_sorted_ind, products, 5)\n",
        "print(similar_movies[['title']])"
      ],
      "metadata": {
        "colab": {
          "base_uri": "https://localhost:8080/"
        },
        "id": "YB099kh7pNQp",
        "outputId": "3f9aa490-f7b2-43af-8b29-17e83fd847e9"
      },
      "execution_count": null,
      "outputs": [
        {
          "output_type": "stream",
          "name": "stdout",
          "text": [
            "[[15 45 53 44  7]]\n",
            "      title\n",
            "15  대나무 슬리퍼\n",
            "45     작두콩차\n",
            "53   테이블 휴지\n",
            "44      우엉차\n",
            "7     대나무칫솔\n"
          ]
        }
      ]
    },
    {
      "cell_type": "code",
      "source": [
        "#save model by joblib library\n",
        "import joblib\n",
        "joblib.dump(similar_movies, 'saved_model.pkl')"
      ],
      "metadata": {
        "colab": {
          "base_uri": "https://localhost:8080/"
        },
        "id": "V3kZxeW7MHZ5",
        "outputId": "22fcc7e0-8d3c-4d68-d3d9-88bd348a2a3b"
      },
      "execution_count": null,
      "outputs": [
        {
          "output_type": "execute_result",
          "data": {
            "text/plain": [
              "['saved_model.pkl']"
            ]
          },
          "metadata": {},
          "execution_count": 10
        }
      ]
    }
  ]
}