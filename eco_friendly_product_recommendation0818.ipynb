{
  "nbformat": 4,
  "nbformat_minor": 0,
  "metadata": {
    "colab": {
      "name": "eco friendly product recommendation0818.ipynb",
      "provenance": [],
      "mount_file_id": "1mLCh_w4JRPLq7Cw-aBZjt6NWmU3-vjUw",
      "authorship_tag": "ABX9TyMGKWMKJ7WZd1a9KdtzPI78",
      "include_colab_link": true
    },
    "kernelspec": {
      "name": "python3",
      "display_name": "Python 3"
    },
    "language_info": {
      "name": "python"
    }
  },
  "cells": [
    {
      "cell_type": "markdown",
      "metadata": {
        "id": "view-in-github",
        "colab_type": "text"
      },
      "source": [
        "<a href=\"https://colab.research.google.com/github/suaJeong-777/AI-recommend-system/blob/main/eco_friendly_product_recommendation0818.ipynb\" target=\"_parent\"><img src=\"https://colab.research.google.com/assets/colab-badge.svg\" alt=\"Open In Colab\"/></a>"
      ]
    },
    {
      "cell_type": "code",
      "source": [
        "from google.colab import drive\n",
        "drive.mount('/content/drive')"
      ],
      "metadata": {
        "colab": {
          "base_uri": "https://localhost:8080/"
        },
        "id": "Xh7leGDN9ZHa",
        "outputId": "78e24c40-1a95-4538-ea86-1b13d4d05a87"
      },
      "execution_count": null,
      "outputs": [
        {
          "output_type": "stream",
          "name": "stdout",
          "text": [
            "Drive already mounted at /content/drive; to attempt to forcibly remount, call drive.mount(\"/content/drive\", force_remount=True).\n"
          ]
        }
      ]
    },
    {
      "cell_type": "code",
      "execution_count": null,
      "metadata": {
        "id": "GyIivCabrbb7",
        "colab": {
          "base_uri": "https://localhost:8080/"
        },
        "outputId": "4acaf061-6ef2-47b0-ce23-234d92ca45df"
      },
      "outputs": [
        {
          "output_type": "stream",
          "name": "stdout",
          "text": [
            "0    [{\"id\": 6, \"name\": \"clothes\"}, {\"id\": 63, \"name\": \"bag\"}, {\"id\": 10, \"name\": \"material\"}, {\"id\": 103, \"name\": \"plastic\"}]\n",
            "Name: genres, dtype: object\n",
            "0    [{\"id\": 63, \"name\": \"bag\"}, {\"id\": 103, \"name\": \"plastic\"}]\n",
            "Name: keywords, dtype: object\n"
          ]
        }
      ],
      "source": [
        "import pandas as pd\n",
        "import warnings; warnings.filterwarnings('ignore')\n",
        "pd.set_option('display.max_rows', None)\n",
        "pd.set_option('display.max_colwidth', None)\n",
        "\n",
        "movies = pd.read_csv(r'/content/drive/MyDrive/소개딩_2022/tmdb_5000_environment.csv',encoding='cp949')\n",
        "# print(movies.shape)\n",
        "# print(movies.head(10))\n",
        "\n",
        "movies_df = movies[['id','title','genres','voteAverage', 'voteCount', 'popularity', 'keywords', 'overview']]\n",
        "print(movies_df['genres'].head(1))\n",
        "print(movies_df['keywords'].head(1))"
      ]
    },
    {
      "cell_type": "code",
      "source": [
        "from ast import literal_eval\n",
        "movies_df['genres'] = movies_df['genres'].apply(literal_eval)\n",
        "movies_df['keywords'] = movies_df['keywords'].apply(literal_eval)\n",
        "movies_df['genres'] = movies_df['genres'].apply(lambda x : [y['name'] for y in x])\n",
        "movies_df['keywords'] = movies_df['keywords'].apply(lambda x : [y['name'] for y in x])\n",
        "print(movies_df['genres'].head(1))\n",
        "print(movies_df['keywords'].head(1))"
      ],
      "metadata": {
        "colab": {
          "base_uri": "https://localhost:8080/"
        },
        "id": "HiwB14yDGAlc",
        "outputId": "a7ed6431-96ac-4917-ab26-f325ca08274e"
      },
      "execution_count": null,
      "outputs": [
        {
          "output_type": "stream",
          "name": "stdout",
          "text": [
            "0    [clothes, bag, material, plastic]\n",
            "Name: genres, dtype: object\n",
            "0    [bag, plastic]\n",
            "Name: keywords, dtype: object\n"
          ]
        }
      ]
    },
    {
      "cell_type": "code",
      "source": [
        "from sklearn.feature_extraction.text import CountVectorizer\n",
        "\n",
        "#CountVectorizer를 적용하기 위해 공백문자로 word단위가 구분되는 문자열로 변환.\n",
        "movies_df['generes_literal'] = movies_df['genres'].apply(lambda x :  (' ').join(x))\n",
        "print(movies_df['generes_literal'].head(10))\n",
        "count_vect = CountVectorizer(min_df=0, ngram_range=(1,2))\n",
        "genre_mat = count_vect.fit_transform(movies_df['generes_literal'])\n",
        "print(genre_mat)\n",
        "print(genre_mat.shape)"
      ],
      "metadata": {
        "colab": {
          "base_uri": "https://localhost:8080/"
        },
        "id": "Dr-1SoweGCCe",
        "outputId": "fa54a0fd-b527-4cc3-de51-7cc0dcdb473b"
      },
      "execution_count": null,
      "outputs": [
        {
          "output_type": "stream",
          "name": "stdout",
          "text": [
            "0         clothes bag material plastic\n",
            "1         clothes pouch matrial fabric\n",
            "2         clothes bag material leather\n",
            "3          clothes bag material others\n",
            "4          clothes top material fabric\n",
            "5    clothes underwear material others\n",
            "6      clothes wallet material leather\n",
            "7     beauty toothbrush material woods\n",
            "8       kitchen others material others\n",
            "9    kitchen dishcloth material fabric\n",
            "Name: generes_literal, dtype: object\n",
            "  (0, 9)\t1\n",
            "  (0, 0)\t1\n",
            "  (0, 50)\t1\n",
            "  (0, 65)\t1\n",
            "  (0, 10)\t1\n",
            "  (0, 1)\t1\n",
            "  (0, 55)\t1\n",
            "  (1, 9)\t1\n",
            "  (1, 66)\t1\n",
            "  (1, 57)\t1\n",
            "  (1, 32)\t1\n",
            "  (1, 12)\t1\n",
            "  (1, 67)\t1\n",
            "  (1, 58)\t1\n",
            "  (2, 9)\t1\n",
            "  (2, 0)\t1\n",
            "  (2, 50)\t1\n",
            "  (2, 10)\t1\n",
            "  (2, 1)\t1\n",
            "  (2, 47)\t1\n",
            "  (2, 53)\t1\n",
            "  (3, 9)\t1\n",
            "  (3, 0)\t1\n",
            "  (3, 50)\t1\n",
            "  (3, 10)\t1\n",
            "  :\t:\n",
            "  (94, 59)\t2\n",
            "  (94, 54)\t1\n",
            "  (94, 60)\t1\n",
            "  (94, 63)\t1\n",
            "  (94, 64)\t1\n",
            "  (95, 50)\t1\n",
            "  (95, 59)\t2\n",
            "  (95, 54)\t1\n",
            "  (95, 60)\t1\n",
            "  (95, 63)\t1\n",
            "  (95, 64)\t1\n",
            "  (96, 50)\t1\n",
            "  (96, 59)\t1\n",
            "  (96, 54)\t1\n",
            "  (96, 2)\t1\n",
            "  (96, 68)\t1\n",
            "  (96, 3)\t1\n",
            "  (96, 69)\t1\n",
            "  (97, 50)\t1\n",
            "  (97, 59)\t1\n",
            "  (97, 54)\t1\n",
            "  (97, 2)\t1\n",
            "  (97, 68)\t1\n",
            "  (97, 3)\t1\n",
            "  (97, 69)\t1\n",
            "(98, 93)\n"
          ]
        }
      ]
    },
    {
      "cell_type": "code",
      "source": [
        "from sklearn.metrics.pairwise import cosine_similarity\n",
        "\n",
        "genre_sim = cosine_similarity(genre_mat, genre_mat)\n",
        "print(genre_sim.shape)\n",
        "print(genre_sim[:1])"
      ],
      "metadata": {
        "colab": {
          "base_uri": "https://localhost:8080/"
        },
        "id": "bQ9FJXFbGGJ6",
        "outputId": "cfa825b5-15c6-4d46-fbc3-04b8dbb646c4"
      },
      "execution_count": null,
      "outputs": [
        {
          "output_type": "stream",
          "name": "stdout",
          "text": [
            "(98, 98)\n",
            "[[1.         0.14285714 0.71428571 0.71428571 0.28571429 0.28571429\n",
            "  0.28571429 0.14285714 0.12598816 0.14285714 0.14285714 0.14285714\n",
            "  0.14285714 0.14285714 0.12598816 0.28571429 0.14285714 0.14285714\n",
            "  0.14285714 0.14285714 0.14285714 0.14285714 0.14285714 0.14285714\n",
            "  0.12598816 0.71428571 0.71428571 0.71428571 0.14285714 0.14285714\n",
            "  0.12598816 0.14285714 0.14285714 0.14285714 0.12598816 0.14285714\n",
            "  0.14285714 0.14285714 0.14285714 0.14285714 0.14285714 0.14285714\n",
            "  0.14285714 0.14285714 0.14285714 0.14285714 0.         0.\n",
            "  0.42857143 0.42857143 0.42857143 0.14285714 0.14285714 0.14285714\n",
            "  0.14285714 0.14285714 0.14285714 0.14285714 0.14285714 0.14285714\n",
            "  0.14285714 0.14285714 0.14285714 0.14285714 0.14285714 0.14285714\n",
            "  0.14285714 0.14285714 0.14285714 0.12598816 0.42857143 0.42857143\n",
            "  0.42857143 0.42857143 0.42857143 0.42857143 0.14285714 0.14285714\n",
            "  0.14285714 0.14285714 0.14285714 0.42857143 0.42857143 0.28571429\n",
            "  0.28571429 0.28571429 0.28571429 0.28571429 0.28571429 1.\n",
            "  0.42857143 0.42857143 1.         0.12598816 0.12598816 0.12598816\n",
            "  0.14285714 0.14285714]]\n"
          ]
        }
      ]
    },
    {
      "cell_type": "code",
      "source": [
        "genre_sim_sorted_ind = genre_sim.argsort()[:,::-1]\n",
        "print(genre_sim_sorted_ind[:1])"
      ],
      "metadata": {
        "colab": {
          "base_uri": "https://localhost:8080/"
        },
        "id": "1dYtSarmGSAf",
        "outputId": "3657b2cc-1846-4a5d-bec1-9db49f0136b7"
      },
      "execution_count": null,
      "outputs": [
        {
          "output_type": "stream",
          "name": "stdout",
          "text": [
            "[[ 0 92 89  2  3 25 26 27 75 49 50 70 71 72 73 74 48 91 81 82 90 84 86 88\n",
            "  87  6 15 85 83  5  4 29 28 80 36 31 32 33 35 22 37 23 17 21 20 19 18 39\n",
            "  16 13 12 11 10  9  7  1 38 40 79 64 41 59 60 61 62 63 65 56 66 67 68 76\n",
            "  77 78 57 58 55 96 42 43 44 45 54 97 51 52 53 14 30  8 34 69 93 94 95 24\n",
            "  47 46]]\n"
          ]
        }
      ]
    },
    {
      "cell_type": "code",
      "source": [
        "products=input(\"상품을 입력하세요: \")"
      ],
      "metadata": {
        "colab": {
          "base_uri": "https://localhost:8080/"
        },
        "id": "uzhVSjndiwu5",
        "outputId": "6377745c-2ea2-43b9-86b9-d939da684ca8"
      },
      "execution_count": null,
      "outputs": [
        {
          "name": "stdout",
          "output_type": "stream",
          "text": [
            "상품을 입력하세요: 석류 텐셀 스카프\n"
          ]
        }
      ]
    },
    {
      "cell_type": "code",
      "source": [
        "def find_sim_movie(df, sorted_ind, title_name, top_n=10):\n",
        "    #인자로 입력된 movies_df DataFrame에서 'title'칼럼이 입력된 title_name값인 DataFrame 추출\n",
        "    title_movie = df[df['title'] == title_name]\n",
        "\n",
        "    #title_named을 가진 DataFrame의 index객체를 ndarray로 반환하고\n",
        "    #sorted_ind 인자로 입력된 genre_sim_sorted_ind 객체에서 유사도 순으로 top_n개의 index추출\n",
        "    title_index = title_movie.index.values\n",
        "    similar_indexes = sorted_ind[title_index, :(top_n)]\n",
        "\n",
        "    #추출된 top_n index출력, top_n index는 2차원 데이터임\n",
        "    #dataframe에서 index로 사용하기 위해서 1차원 array로 변경\n",
        "    print(similar_indexes)\n",
        "    similar_indexes = similar_indexes.reshape(-1)\n",
        "\n",
        "    return df.iloc[similar_indexes]\n",
        "\n",
        "similar_movies = find_sim_movie(movies_df, genre_sim_sorted_ind, products, 5)   # 찾고자 하는 데이터와 유사한 것\n",
        "print(similar_movies.info())\n",
        "print(similar_movies)\n",
        "print(similar_movies[['title', 'voteCount', 'voteAverage']])"
      ],
      "metadata": {
        "colab": {
          "base_uri": "https://localhost:8080/"
        },
        "id": "CT-pBHQ7GVXK",
        "outputId": "e67e2c8e-1cb4-4d3a-fe8f-77f0b5410b97"
      },
      "execution_count": null,
      "outputs": [
        {
          "output_type": "stream",
          "name": "stdout",
          "text": [
            "[[86 84 88 87 83]]\n",
            "<class 'pandas.core.frame.DataFrame'>\n",
            "Int64Index: 5 entries, 86 to 83\n",
            "Data columns (total 10 columns):\n",
            " #   Column           Non-Null Count  Dtype  \n",
            "---  ------           --------------  -----  \n",
            " 0   id               5 non-null      int64  \n",
            " 1   title            5 non-null      object \n",
            " 2   genres           5 non-null      object \n",
            " 3   voteAverage      5 non-null      float64\n",
            " 4   voteCount        5 non-null      int64  \n",
            " 5   popularity       5 non-null      float64\n",
            " 6   keywords         5 non-null      object \n",
            " 7   overview         5 non-null      object \n",
            " 8   generes_literal  5 non-null      object \n",
            " 9   weighted_vote    5 non-null      float64\n",
            "dtypes: float64(3), int64(2), object(5)\n",
            "memory usage: 440.0+ bytes\n",
            "None\n",
            "        id         title                               genres  voteAverage  \\\n",
            "86  158852     석류 텐셀 스카프  [clothes, others, material, cotton]          6.2   \n",
            "84  100402    금잔화 텐셀 스카프  [clothes, others, material, cotton]          7.6   \n",
            "88   82690   금잔화 코튼 캡 모자  [clothes, others, material, cotton]          7.1   \n",
            "87  177572  꼭두서니 코튼 캡 모자  [clothes, others, material, cotton]          7.8   \n",
            "83   64686   꼭두서니 텐셀 스카프  [clothes, others, material, cotton]          5.9   \n",
            "\n",
            "    voteCount  popularity          keywords  \\\n",
            "86       2846  130.311355  [others, cotton]   \n",
            "84       5764   72.225265  [others, cotton]   \n",
            "88       4570   62.341073  [others, cotton]   \n",
            "87       6135  203.734590  [others, cotton]   \n",
            "83       1326   41.796339  [others, cotton]   \n",
            "\n",
            "                                overview                 generes_literal  \\\n",
            "86  scarf made of cotton and natual  dye  clothes others material cotton   \n",
            "84  scarf made of cotton and natual  dye  clothes others material cotton   \n",
            "88   caps made of cotton and natual  dye  clothes others material cotton   \n",
            "87   caps made of cotton and natual  dye  clothes others material cotton   \n",
            "83  scarf made of cotton and natual  dye  clothes others material cotton   \n",
            "\n",
            "    weighted_vote  \n",
            "86       6.423162  \n",
            "84       7.143592  \n",
            "88       6.832718  \n",
            "87       7.274479  \n",
            "83       6.413161  \n",
            "           title  voteCount  voteAverage\n",
            "86     석류 텐셀 스카프       2846          6.2\n",
            "84    금잔화 텐셀 스카프       5764          7.6\n",
            "88   금잔화 코튼 캡 모자       4570          7.1\n",
            "87  꼭두서니 코튼 캡 모자       6135          7.8\n",
            "83   꼭두서니 텐셀 스카프       1326          5.9\n"
          ]
        }
      ]
    },
    {
      "cell_type": "code",
      "source": [
        "similar_movies = find_sim_movie(movies_df, genre_sim_sorted_ind, products, 5)\n",
        "print(similar_movies[['title']])"
      ],
      "metadata": {
        "colab": {
          "base_uri": "https://localhost:8080/"
        },
        "id": "YB099kh7pNQp",
        "outputId": "63b7100b-4aea-46c0-b6b5-38b232c4e4d7"
      },
      "execution_count": null,
      "outputs": [
        {
          "output_type": "stream",
          "name": "stdout",
          "text": [
            "[[86 84 88 87 83]]\n",
            "           title\n",
            "86     석류 텐셀 스카프\n",
            "84    금잔화 텐셀 스카프\n",
            "88   금잔화 코튼 캡 모자\n",
            "87  꼭두서니 코튼 캡 모자\n",
            "83   꼭두서니 텐셀 스카프\n"
          ]
        }
      ]
    }
  ]
}